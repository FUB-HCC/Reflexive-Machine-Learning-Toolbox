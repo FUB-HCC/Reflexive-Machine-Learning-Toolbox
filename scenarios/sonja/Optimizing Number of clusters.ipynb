{
 "cells": [
  {
   "cell_type": "markdown",
   "metadata": {
    "tags": []
   },
   "source": [
    "We use the Silhouette Score to optimize the number of clusters. \n",
    "https://scikit-learn.org/stable/auto_examples/cluster/plot_kmeans_silhouette_analysis.html"
   ]
  },
  {
   "cell_type": "markdown",
   "metadata": {
    "id": "udm08-RF6kR6"
   },
   "source": [
    "# Setup\n",
    "Sonja starts by setting up the enviroment she wants to work in.\n",
    "\n",
    "The Reflexive ML Toolbox relies on external packages that provide useful functionality. For instance, the package *pandas* provides functionality for working with spreadsheet-like data.\n",
    "These libraries have to be installed to the system that runs the Jupyter Notebook and subsequently loaded (or imported) into the notebook so they can be used in the code."
   ]
  },
  {
   "cell_type": "markdown",
   "metadata": {
    "id": "-aFAmH-o7zXe"
   },
   "source": [
    "## Install Packages\n",
    "\n",
    "Some of the libraries used in this notebook are not installed by default. \n",
    "We use the package manager Anaconda to install the missing libraries. \n",
    "See the Setup.txt for a step-by-step guide on how to set up Jupyter Lab and Anaconda."
   ]
  },
  {
   "cell_type": "code",
   "execution_count": 1,
   "metadata": {
    "colab": {
     "base_uri": "https://localhost:8080/"
    },
    "id": "f0jHqH3J7pBC",
    "outputId": "5cae174c-dfa5-437d-a7bc-8ae68819392f"
   },
   "outputs": [],
   "source": [
    "install = False\n",
    "if install:\n",
    "    !conda install -c conda-forge html2text -y\n",
    "    !conda install -c conda-forge sentence-transformers -y\n",
    "    !conda install pandas --y\n",
    "    !conda install -c conda-forge matplotlib -y\n",
    "    !conda install -c conda-forge umap-learn -y\n",
    "    !conda install -c conda-forge scikit-learn-extra -y\n",
    "    !conda install -c districtdatalabs yellowbrick -y"
   ]
  },
  {
   "cell_type": "markdown",
   "metadata": {
    "id": "7yvrwuZAYxRC"
   },
   "source": [
    "## Imports\n",
    "We need some libraries to run our code. After importing them into our notebook, we can use them.\n",
    "\n",
    "We use the following Libraries:\n",
    "\n",
    "*NumPy (np)* 'is a library for the Python programming language, adding support for large, multi-dimensional arrays and matrices, along with a large collection of high-level mathematical functions to operate on these arrays.' (https://en.wikipedia.org/wiki/NumPy\n",
    "\n",
    "*Pandas (pd)* 'is a fast, powerful, flexible and easy to use open source data analysis and manipulation tool, built on top of the Python programming language.' (https://pandas.pydata.org/) Pandas represents data in a spreadsheet-like format and allows us to manipulate it accordingly.\n",
    "\n",
    "*sentence_transformers* 'SentenceTransformers is a Python framework for state-of-the-art sentence, text and image embeddings. The initial work is described in our paper Sentence-BERT: Sentence Embeddings using Siamese BERT-Networks.\n",
    "You can use this framework to compute sentence / text embeddings for more than 100 languages. These embeddings can then be compared e.g. with cosine-similarity to find sentences with a similar meaning. This can be useful for semantic textual similar, semantic search, or paraphrase mining. The framework is based on PyTorch and Transformers and offers a large collection of pre-trained models tuned for various tasks. Further, it is easy to fine-tune your own models.' (https://www.sbert.net/)\n",
    "\n",
    "*matplotlib* 'Matplotlib is a comprehensive library for creating static, animated, and interactive visualizations in Python.' (https://matplotlib.org/)"
   ]
  },
  {
   "cell_type": "code",
   "execution_count": 2,
   "metadata": {
    "id": "L15COQxvc0tx"
   },
   "outputs": [],
   "source": [
    "import numpy as np\n",
    "\n",
    "import pandas as pd\n",
    "\n",
    "from sentence_transformers import SentenceTransformer,util\n",
    "\n",
    "from html2text import HTML2Text\n",
    "from tqdm import tqdm\n",
    "\n",
    "import matplotlib.pyplot as plt"
   ]
  },
  {
   "cell_type": "markdown",
   "metadata": {
    "id": "bIYnK6gcc0tz"
   },
   "source": [
    "## Set Pandas print options\n",
    "\n",
    "To get more readable outputs when printing our data in Pandas, we set some print options."
   ]
  },
  {
   "cell_type": "code",
   "execution_count": 3,
   "metadata": {
    "id": "Zf1XanQ8c0tz"
   },
   "outputs": [],
   "source": [
    "#pandas print options\n",
    "\n",
    "pd.set_option('display.max_rows', None)\n",
    "pd.set_option('display.max_columns', None)\n",
    "pd.set_option('display.width', None)\n",
    "pd.set_option('display.max_colwidth', None)"
   ]
  },
  {
   "cell_type": "markdown",
   "metadata": {
    "id": "v4ncieDZ5yqK"
   },
   "source": [
    "# Load Data\n",
    "\n",
    "Data Source: https://www.kaggle.com/edqian/twitter-climate-change-sentiment-dataset \n",
    "\n",
    "The data is formatted as comma-separated values (csv) and saved as a .csv-file.\n",
    "We load the data using pandas which will allow us to treat it like a spreadsheet with rows and columns.\n",
    "Further, we specify, which column contains the text of the tweets."
   ]
  },
  {
   "cell_type": "code",
   "execution_count": 35,
   "metadata": {
    "id": "uO8Zx3f55fgS"
   },
   "outputs": [],
   "source": [
    "data = pd.read_csv(\"twitter_sentiment_data_dates.csv\", encoding=\"'UTF-8'\")\n",
    "text_column = 'message'"
   ]
  },
  {
   "cell_type": "markdown",
   "metadata": {},
   "source": [
    "We print the first 10 rows of our spreadsheet to make sure we loaded the data correctly."
   ]
  },
  {
   "cell_type": "code",
   "execution_count": 36,
   "metadata": {
    "colab": {
     "base_uri": "https://localhost:8080/",
     "height": 1000
    },
    "id": "P2XqCqhI87_t",
    "outputId": "e81fe7bd-dde6-4e9d-a7b9-bc56318ef54b"
   },
   "outputs": [
    {
     "data": {
      "text/html": [
       "<div>\n",
       "<style scoped>\n",
       "    .dataframe tbody tr th:only-of-type {\n",
       "        vertical-align: middle;\n",
       "    }\n",
       "\n",
       "    .dataframe tbody tr th {\n",
       "        vertical-align: top;\n",
       "    }\n",
       "\n",
       "    .dataframe thead th {\n",
       "        text-align: right;\n",
       "    }\n",
       "</style>\n",
       "<table border=\"1\" class=\"dataframe\">\n",
       "  <thead>\n",
       "    <tr style=\"text-align: right;\">\n",
       "      <th></th>\n",
       "      <th>sentiment</th>\n",
       "      <th>message</th>\n",
       "      <th>tweetid</th>\n",
       "      <th>publishedAt</th>\n",
       "    </tr>\n",
       "  </thead>\n",
       "  <tbody>\n",
       "    <tr>\n",
       "      <th>0</th>\n",
       "      <td>-1</td>\n",
       "      <td>@tiniebeany climate change is an interesting hustle as it was global warming but the planet stopped warming for 15 yes while the suv boom</td>\n",
       "      <td>792927353886371840</td>\n",
       "      <td>2019-10-20</td>\n",
       "    </tr>\n",
       "    <tr>\n",
       "      <th>1</th>\n",
       "      <td>1</td>\n",
       "      <td>RT @NatGeoChannel: Watch #BeforeTheFlood right here, as @LeoDiCaprio travels the world to tackle climate change https://t.co/LkDehj3tNn httÃ¢â‚¬Â¦</td>\n",
       "      <td>793124211518832641</td>\n",
       "      <td>2019-12-27</td>\n",
       "    </tr>\n",
       "    <tr>\n",
       "      <th>2</th>\n",
       "      <td>1</td>\n",
       "      <td>Fabulous! Leonardo #DiCaprio's film on #climate change is brilliant!!! Do watch. https://t.co/7rV6BrmxjW via @youtube</td>\n",
       "      <td>793124402388832256</td>\n",
       "      <td>2019-08-13</td>\n",
       "    </tr>\n",
       "    <tr>\n",
       "      <th>3</th>\n",
       "      <td>1</td>\n",
       "      <td>RT @Mick_Fanning: Just watched this amazing documentary by leonardodicaprio on climate change. We all think thisÃ¢â‚¬Â¦ https://t.co/kNSTE8K8im</td>\n",
       "      <td>793124635873275904</td>\n",
       "      <td>2019-08-09</td>\n",
       "    </tr>\n",
       "    <tr>\n",
       "      <th>4</th>\n",
       "      <td>2</td>\n",
       "      <td>RT @cnalive: Pranita Biswasi, a Lutheran from Odisha, gives testimony on effects of climate change &amp;amp; natural disasters on the poÃ¢â‚¬Â¦</td>\n",
       "      <td>793125156185137153</td>\n",
       "      <td>2020-05-12</td>\n",
       "    </tr>\n",
       "    <tr>\n",
       "      <th>5</th>\n",
       "      <td>0</td>\n",
       "      <td>Unamshow awache kujinga na iko global warming https://t.co/mhIflU7M1X</td>\n",
       "      <td>793125429418815489</td>\n",
       "      <td>2020-10-01</td>\n",
       "    </tr>\n",
       "    <tr>\n",
       "      <th>6</th>\n",
       "      <td>2</td>\n",
       "      <td>RT @cnalive: Pranita Biswasi, a Lutheran from Odisha, gives testimony on effects of climate change &amp;amp; natural disasters on the poÃ¢â‚¬Â¦</td>\n",
       "      <td>793125430236684289</td>\n",
       "      <td>2019-08-03</td>\n",
       "    </tr>\n",
       "    <tr>\n",
       "      <th>7</th>\n",
       "      <td>2</td>\n",
       "      <td>RT @CCIRiviera: Presidential Candidate #DonaldTrump is Ã¢â‚¬Å“dangerousÃ¢â‚¬ï† on climate change, says #monaco Ã¢â‚¬â„¢s Prince AlbertÃ¢â‚¬Â¦</td>\n",
       "      <td>793126558688878592</td>\n",
       "      <td>2019-11-19</td>\n",
       "    </tr>\n",
       "    <tr>\n",
       "      <th>8</th>\n",
       "      <td>0</td>\n",
       "      <td>RT @AmericanIndian8: Leonardo DiCaprio's climate change documentary is free for a week https://t.co/ITpdZ6kCeg\\n#INDIGENOUS #TAIRP https://tÃ¢â‚¬Â¦</td>\n",
       "      <td>793127097854197761</td>\n",
       "      <td>2020-10-03</td>\n",
       "    </tr>\n",
       "    <tr>\n",
       "      <th>9</th>\n",
       "      <td>1</td>\n",
       "      <td>#BeforeTheFlood Watch #BeforeTheFlood right here, as @LeoDiCaprio travels the world to tackle climate change... https://t.co/HCIZrPUhLF</td>\n",
       "      <td>793127346106753028</td>\n",
       "      <td>2020-07-30</td>\n",
       "    </tr>\n",
       "  </tbody>\n",
       "</table>\n",
       "</div>"
      ],
      "text/plain": [
       "   sentiment  \\\n",
       "0         -1   \n",
       "1          1   \n",
       "2          1   \n",
       "3          1   \n",
       "4          2   \n",
       "5          0   \n",
       "6          2   \n",
       "7          2   \n",
       "8          0   \n",
       "9          1   \n",
       "\n",
       "                                                                                                                                               message  \\\n",
       "0            @tiniebeany climate change is an interesting hustle as it was global warming but the planet stopped warming for 15 yes while the suv boom   \n",
       "1   RT @NatGeoChannel: Watch #BeforeTheFlood right here, as @LeoDiCaprio travels the world to tackle climate change https://t.co/LkDehj3tNn httÃ¢â‚¬Â¦   \n",
       "2                                Fabulous! Leonardo #DiCaprio's film on #climate change is brilliant!!! Do watch. https://t.co/7rV6BrmxjW via @youtube   \n",
       "3      RT @Mick_Fanning: Just watched this amazing documentary by leonardodicaprio on climate change. We all think thisÃ¢â‚¬Â¦ https://t.co/kNSTE8K8im   \n",
       "4          RT @cnalive: Pranita Biswasi, a Lutheran from Odisha, gives testimony on effects of climate change &amp; natural disasters on the poÃ¢â‚¬Â¦   \n",
       "5                                                                                Unamshow awache kujinga na iko global warming https://t.co/mhIflU7M1X   \n",
       "6          RT @cnalive: Pranita Biswasi, a Lutheran from Odisha, gives testimony on effects of climate change &amp; natural disasters on the poÃ¢â‚¬Â¦   \n",
       "7       RT @CCIRiviera: Presidential Candidate #DonaldTrump is Ã¢â‚¬Å“dangerousÃ¢â‚¬ï† on climate change, says #monaco Ã¢â‚¬â„¢s Prince AlbertÃ¢â‚¬Â¦   \n",
       "8  RT @AmericanIndian8: Leonardo DiCaprio's climate change documentary is free for a week https://t.co/ITpdZ6kCeg\\n#INDIGENOUS #TAIRP https://tÃ¢â‚¬Â¦   \n",
       "9              #BeforeTheFlood Watch #BeforeTheFlood right here, as @LeoDiCaprio travels the world to tackle climate change... https://t.co/HCIZrPUhLF   \n",
       "\n",
       "              tweetid publishedAt  \n",
       "0  792927353886371840  2019-10-20  \n",
       "1  793124211518832641  2019-12-27  \n",
       "2  793124402388832256  2019-08-13  \n",
       "3  793124635873275904  2019-08-09  \n",
       "4  793125156185137153  2020-05-12  \n",
       "5  793125429418815489  2020-10-01  \n",
       "6  793125430236684289  2019-08-03  \n",
       "7  793126558688878592  2019-11-19  \n",
       "8  793127097854197761  2020-10-03  \n",
       "9  793127346106753028  2020-07-30  "
      ]
     },
     "execution_count": 36,
     "metadata": {},
     "output_type": "execute_result"
    }
   ],
   "source": [
    "data.head(10)"
   ]
  },
  {
   "cell_type": "markdown",
   "metadata": {
    "id": "VHRaCMbmc0t0"
   },
   "source": [
    "# Preprocessing\n",
    "\n",
    "Some preprocessing can be done to produce better embeddings. This step higly depends on the input data. For interviews, we could for example parse out speaker names, such as \\*Interviewer says\\*:"
   ]
  },
  {
   "cell_type": "markdown",
   "metadata": {
    "id": "Kgw2xlAtc0t0"
   },
   "source": [
    "## Drop unused rows and columns\n",
    "\n",
    "If Tweets do not contain any text, we drop them, because they would distort results.\n",
    "\n",
    "Further, we are not interested in the sentiment annotations, so we drop the corresponding column."
   ]
  },
  {
   "cell_type": "code",
   "execution_count": 37,
   "metadata": {
    "colab": {
     "base_uri": "https://localhost:8080/",
     "height": 323
    },
    "id": "qN1JViX1c0t0",
    "outputId": "bf326f5d-daa6-46fd-c504-0bb2afc4726e"
   },
   "outputs": [
    {
     "data": {
      "text/html": [
       "<div>\n",
       "<style scoped>\n",
       "    .dataframe tbody tr th:only-of-type {\n",
       "        vertical-align: middle;\n",
       "    }\n",
       "\n",
       "    .dataframe tbody tr th {\n",
       "        vertical-align: top;\n",
       "    }\n",
       "\n",
       "    .dataframe thead th {\n",
       "        text-align: right;\n",
       "    }\n",
       "</style>\n",
       "<table border=\"1\" class=\"dataframe\">\n",
       "  <thead>\n",
       "    <tr style=\"text-align: right;\">\n",
       "      <th></th>\n",
       "      <th>message</th>\n",
       "      <th>tweetid</th>\n",
       "      <th>publishedAt</th>\n",
       "    </tr>\n",
       "  </thead>\n",
       "  <tbody>\n",
       "    <tr>\n",
       "      <th>0</th>\n",
       "      <td>@tiniebeany climate change is an interesting hustle as it was global warming but the planet stopped warming for 15 yes while the suv boom</td>\n",
       "      <td>792927353886371840</td>\n",
       "      <td>2019-10-20</td>\n",
       "    </tr>\n",
       "    <tr>\n",
       "      <th>1</th>\n",
       "      <td>RT @NatGeoChannel: Watch #BeforeTheFlood right here, as @LeoDiCaprio travels the world to tackle climate change https://t.co/LkDehj3tNn httÃ¢â‚¬Â¦</td>\n",
       "      <td>793124211518832641</td>\n",
       "      <td>2019-12-27</td>\n",
       "    </tr>\n",
       "    <tr>\n",
       "      <th>2</th>\n",
       "      <td>Fabulous! Leonardo #DiCaprio's film on #climate change is brilliant!!! Do watch. https://t.co/7rV6BrmxjW via @youtube</td>\n",
       "      <td>793124402388832256</td>\n",
       "      <td>2019-08-13</td>\n",
       "    </tr>\n",
       "    <tr>\n",
       "      <th>3</th>\n",
       "      <td>RT @Mick_Fanning: Just watched this amazing documentary by leonardodicaprio on climate change. We all think thisÃ¢â‚¬Â¦ https://t.co/kNSTE8K8im</td>\n",
       "      <td>793124635873275904</td>\n",
       "      <td>2019-08-09</td>\n",
       "    </tr>\n",
       "    <tr>\n",
       "      <th>4</th>\n",
       "      <td>RT @cnalive: Pranita Biswasi, a Lutheran from Odisha, gives testimony on effects of climate change &amp;amp; natural disasters on the poÃ¢â‚¬Â¦</td>\n",
       "      <td>793125156185137153</td>\n",
       "      <td>2020-05-12</td>\n",
       "    </tr>\n",
       "  </tbody>\n",
       "</table>\n",
       "</div>"
      ],
      "text/plain": [
       "                                                                                                                                              message  \\\n",
       "0           @tiniebeany climate change is an interesting hustle as it was global warming but the planet stopped warming for 15 yes while the suv boom   \n",
       "1  RT @NatGeoChannel: Watch #BeforeTheFlood right here, as @LeoDiCaprio travels the world to tackle climate change https://t.co/LkDehj3tNn httÃ¢â‚¬Â¦   \n",
       "2                               Fabulous! Leonardo #DiCaprio's film on #climate change is brilliant!!! Do watch. https://t.co/7rV6BrmxjW via @youtube   \n",
       "3     RT @Mick_Fanning: Just watched this amazing documentary by leonardodicaprio on climate change. We all think thisÃ¢â‚¬Â¦ https://t.co/kNSTE8K8im   \n",
       "4         RT @cnalive: Pranita Biswasi, a Lutheran from Odisha, gives testimony on effects of climate change &amp; natural disasters on the poÃ¢â‚¬Â¦   \n",
       "\n",
       "              tweetid publishedAt  \n",
       "0  792927353886371840  2019-10-20  \n",
       "1  793124211518832641  2019-12-27  \n",
       "2  793124402388832256  2019-08-13  \n",
       "3  793124635873275904  2019-08-09  \n",
       "4  793125156185137153  2020-05-12  "
      ]
     },
     "execution_count": 37,
     "metadata": {},
     "output_type": "execute_result"
    }
   ],
   "source": [
    "data = data.dropna(subset=[text_column]) # drop rows with no content\n",
    "data = data.drop(['sentiment'], axis = 1)\n",
    "data.head()"
   ]
  },
  {
   "cell_type": "code",
   "execution_count": 38,
   "metadata": {},
   "outputs": [
    {
     "data": {
      "text/plain": [
       "(18866, 3)"
      ]
     },
     "execution_count": 38,
     "metadata": {},
     "output_type": "execute_result"
    }
   ],
   "source": [
    "data = data[~data[text_column].str.startswith(\"RT\")].reset_index(drop=True)\n",
    "data.shape"
   ]
  },
  {
   "cell_type": "markdown",
   "metadata": {
    "id": "CGxZBIiMc0t0"
   },
   "source": [
    "## Remove HTML Tags, Links, User names, new lines\n",
    "\n",
    "Before we analyze the tweets with our model we clean them to imporve performance.\n",
    "We filter out:\n",
    "- HTML-tags\n",
    "- Links\n",
    "- New-Line commands"
   ]
  },
  {
   "cell_type": "code",
   "execution_count": 39,
   "metadata": {
    "colab": {
     "base_uri": "https://localhost:8080/"
    },
    "id": "TuMDv_Etc0t0",
    "outputId": "4ebd79ed-d7a2-490e-ac65-dc1b6a6b9da5"
   },
   "outputs": [
    {
     "name": "stderr",
     "output_type": "stream",
     "text": [
      "100%|██████████| 18866/18866 [00:02<00:00, 8527.95it/s]\n",
      "<ipython-input-39-7e865067b37e>:11: FutureWarning: The default value of regex will change from True to False in a future version.\n",
      "  data['cleaned'] = data['cleaned'].str.replace(http_link_pattern, '')\n"
     ]
    },
    {
     "name": "stdout",
     "output_type": "stream",
     "text": [
      "Removed HTML Tags\n",
      "Removed Links\n",
      "Removed new line \n",
      "\n"
     ]
    },
    {
     "name": "stderr",
     "output_type": "stream",
     "text": [
      "<ipython-input-39-7e865067b37e>:12: FutureWarning: The default value of regex will change from True to False in a future version.\n",
      "  data['cleaned'] = data['cleaned'].str.replace(bitly_link_pattern, '')\n",
      "<ipython-input-39-7e865067b37e>:17: FutureWarning: The default value of regex will change from True to False in a future version.\n",
      "  data['cleaned'] = data['cleaned'].str.replace(new_line_pattern, ' ')\n"
     ]
    },
    {
     "data": {
      "text/html": [
       "<div>\n",
       "<style scoped>\n",
       "    .dataframe tbody tr th:only-of-type {\n",
       "        vertical-align: middle;\n",
       "    }\n",
       "\n",
       "    .dataframe tbody tr th {\n",
       "        vertical-align: top;\n",
       "    }\n",
       "\n",
       "    .dataframe thead th {\n",
       "        text-align: right;\n",
       "    }\n",
       "</style>\n",
       "<table border=\"1\" class=\"dataframe\">\n",
       "  <thead>\n",
       "    <tr style=\"text-align: right;\">\n",
       "      <th></th>\n",
       "      <th>message</th>\n",
       "      <th>tweetid</th>\n",
       "      <th>publishedAt</th>\n",
       "      <th>cleaned</th>\n",
       "    </tr>\n",
       "  </thead>\n",
       "  <tbody>\n",
       "    <tr>\n",
       "      <th>0</th>\n",
       "      <td>@tiniebeany climate change is an interesting hustle as it was global warming but the planet stopped warming for 15 yes while the suv boom</td>\n",
       "      <td>792927353886371840</td>\n",
       "      <td>2019-10-20</td>\n",
       "      <td>@tiniebeany climate change is an interesting hustle as it was global warming but the planet stopped warming for 15 yes while the suv boom</td>\n",
       "    </tr>\n",
       "    <tr>\n",
       "      <th>1</th>\n",
       "      <td>Fabulous! Leonardo #DiCaprio's film on #climate change is brilliant!!! Do watch. https://t.co/7rV6BrmxjW via @youtube</td>\n",
       "      <td>793124402388832256</td>\n",
       "      <td>2019-08-13</td>\n",
       "      <td>Fabulous! Leonardo #DiCaprio's film on #climate change is brilliant!!! Do watch.  via @youtube</td>\n",
       "    </tr>\n",
       "    <tr>\n",
       "      <th>2</th>\n",
       "      <td>Unamshow awache kujinga na iko global warming https://t.co/mhIflU7M1X</td>\n",
       "      <td>793125429418815489</td>\n",
       "      <td>2020-10-01</td>\n",
       "      <td>Unamshow awache kujinga na iko global warming</td>\n",
       "    </tr>\n",
       "    <tr>\n",
       "      <th>3</th>\n",
       "      <td>#BeforeTheFlood Watch #BeforeTheFlood right here, as @LeoDiCaprio travels the world to tackle climate change... https://t.co/HCIZrPUhLF</td>\n",
       "      <td>793127346106753028</td>\n",
       "      <td>2020-07-30</td>\n",
       "      <td>#BeforeTheFlood Watch #BeforeTheFlood right here, as @LeoDiCaprio travels the world to tackle climate change...</td>\n",
       "    </tr>\n",
       "    <tr>\n",
       "      <th>4</th>\n",
       "      <td>Bangladesh did not cause climate change, so the country does not need Ã¢â‚¬Å“aidÃ¢â‚¬ï†; instead it needs compensation for theÃ¢â‚¬Â¦ https://t.co/ecGXgRNROP</td>\n",
       "      <td>793129746003615745</td>\n",
       "      <td>2019-06-30</td>\n",
       "      <td>Bangladesh did not cause climate change, so the country does not need Ã¢â‚¬Å“aidÃ¢â‚¬ï†; instead it needs compensation for theÃ¢â‚¬Â¦</td>\n",
       "    </tr>\n",
       "  </tbody>\n",
       "</table>\n",
       "</div>"
      ],
      "text/plain": [
       "                                                                                                                                                          message  \\\n",
       "0                       @tiniebeany climate change is an interesting hustle as it was global warming but the planet stopped warming for 15 yes while the suv boom   \n",
       "1                                           Fabulous! Leonardo #DiCaprio's film on #climate change is brilliant!!! Do watch. https://t.co/7rV6BrmxjW via @youtube   \n",
       "2                                                                                           Unamshow awache kujinga na iko global warming https://t.co/mhIflU7M1X   \n",
       "3                         #BeforeTheFlood Watch #BeforeTheFlood right here, as @LeoDiCaprio travels the world to tackle climate change... https://t.co/HCIZrPUhLF   \n",
       "4  Bangladesh did not cause climate change, so the country does not need Ã¢â‚¬Å“aidÃ¢â‚¬ï†; instead it needs compensation for theÃ¢â‚¬Â¦ https://t.co/ecGXgRNROP   \n",
       "\n",
       "              tweetid publishedAt  \\\n",
       "0  792927353886371840  2019-10-20   \n",
       "1  793124402388832256  2019-08-13   \n",
       "2  793125429418815489  2020-10-01   \n",
       "3  793127346106753028  2020-07-30   \n",
       "4  793129746003615745  2019-06-30   \n",
       "\n",
       "                                                                                                                                       cleaned  \n",
       "0  @tiniebeany climate change is an interesting hustle as it was global warming but the planet stopped warming for 15 yes while the suv boom    \n",
       "1                                             Fabulous! Leonardo #DiCaprio's film on #climate change is brilliant!!! Do watch.  via @youtube    \n",
       "2                                                                                             Unamshow awache kujinga na iko global warming     \n",
       "3                           #BeforeTheFlood Watch #BeforeTheFlood right here, as @LeoDiCaprio travels the world to tackle climate change...     \n",
       "4    Bangladesh did not cause climate change, so the country does not need Ã¢â‚¬Å“aidÃ¢â‚¬ï†; instead it needs compensation for theÃ¢â‚¬Â¦     "
      ]
     },
     "execution_count": 39,
     "metadata": {},
     "output_type": "execute_result"
    }
   ],
   "source": [
    "# Remove HTML tags\n",
    "tqdm.pandas()\n",
    "h = HTML2Text()\n",
    "h.ignore_links = True\n",
    "data['cleaned'] = data[text_column].progress_apply(lambda x: h.handle(x))\n",
    "print( \"Removed HTML Tags\")\n",
    "\n",
    "# Remove links\n",
    "http_link_pattern = r'http\\S+'\n",
    "bitly_link_pattern = r'bit.ly/\\S+'\n",
    "data['cleaned'] = data['cleaned'].str.replace(http_link_pattern, '')\n",
    "data['cleaned'] = data['cleaned'].str.replace(bitly_link_pattern, '')\n",
    "print( \"Removed Links\")\n",
    "  \n",
    "# Remove new line \\n\n",
    "new_line_pattern = r'\\n'\n",
    "data['cleaned'] = data['cleaned'].str.replace(new_line_pattern, ' ')\n",
    "print( \"Removed new line \\n\")\n",
    "\n",
    "data.head()"
   ]
  },
  {
   "cell_type": "markdown",
   "metadata": {
    "id": "eXDWP4NO500u"
   },
   "source": [
    "# Embed Data with Universal Sentence Encoder\n",
    "\n",
    "We want to analyze the content of the tweets with machine learning. For this, we use a model that extracts information. about the content of the tweets. \n",
    "Conceptually, the model produces a vector for each of the tweets. The direction of the vectors corrsponds to the tweets' semantic meaning. \n",
    "If two vectors point in a similar direction, their semantic meaning is similar.\n",
    "\n",
    "For example, the tweets \"Climate change is dangerous\" and \"We have to be aware of the dangers of climate change\" are similar in meaning so their vectors would point in similar directions. \n",
    "The tweet \"Polar bears will go extinct\" is not as similar to the aforementioned tweets, so it's vector will point to a different direction.\n",
    "\n",
    "The process of assigning a vector to a piece of text is called *embedding*. \n",
    "\n",
    "We use a pretrained neural language model to produce embeddings of the tweets.\n",
    "The model has been trained with different datasets and has learned a general representation of the semantics of natural language. \n",
    "\n",
    "The model we use is called Universal Sentence Encoder:\n",
    "USE_Multilingual (hosted at: sbert.net , Paper: Yang, Y., Cer, D.M., Ahmad, A., Guo, M., Law, J., Constant, N., Ábrego, G., Yuan, S., Tar, C., Sung, Y., Strope, B., & Kurzweil, R. (2020). Multilingual Universal Sentence Encoder for Semantic Retrieval. ACL.)\n",
    "(https://public.ukp.informatik.tu-darmstadt.de/reimers/sentence-transformers/v0.2/) \n",
    "\n",
    "First, we load the model into the notebook and then we assign embeddings to the tweets."
   ]
  },
  {
   "cell_type": "markdown",
   "metadata": {
    "id": "ljvBMDKifhf_"
   },
   "source": [
    "## Load Model\n",
    "\n",
    "Before we can use the model we have to download it.\n"
   ]
  },
  {
   "cell_type": "code",
   "execution_count": 40,
   "metadata": {
    "id": "jSETznhEfhf_"
   },
   "outputs": [],
   "source": [
    "model = SentenceTransformer('distiluse-base-multilingual-cased-v1/')"
   ]
  },
  {
   "cell_type": "markdown",
   "metadata": {
    "id": "PuKajbbpfxoM"
   },
   "source": [
    "## Embed documents\n",
    "\n",
    "Then we can pass the tweets into the model and it will return embeddings.\n",
    "\n",
    "For each tweet (i.e. each row in the data frame) one embedding is generated."
   ]
  },
  {
   "cell_type": "code",
   "execution_count": 41,
   "metadata": {
    "colab": {
     "background_save": true,
     "base_uri": "https://localhost:8080/",
     "height": 66,
     "referenced_widgets": [
      "fe92717b5ffd4189b7246df035ed4e39",
      "d6ed8e611e5041768981426163dc8f70",
      "684be7aeefb649e7a5700da9d69c0d5f",
      "f1b3ebf42fb0433aa1beeafb94cb8c80",
      "f2ab639942064be2a54aae50750c7220",
      "0d23def4223948c6ad8afd49b06f1e69",
      "04677e5830754566a2337a7e50cb14aa",
      "a32043d4a8f94ed186c5c69bb042a8d6"
     ]
    },
    "id": "-pu1GQnnfxoN",
    "outputId": "6510d29a-cc62-4b39-dcb1-8d62cce49f47"
   },
   "outputs": [
    {
     "name": "stdout",
     "output_type": "stream",
     "text": [
      "Embedding...\n"
     ]
    },
    {
     "data": {
      "application/vnd.jupyter.widget-view+json": {
       "model_id": "5b4ed3dfa0ab4ef98689df9ef35160b5",
       "version_major": 2,
       "version_minor": 0
      },
      "text/plain": [
       "Batches:   0%|          | 0/148 [00:00<?, ?it/s]"
      ]
     },
     "metadata": {},
     "output_type": "display_data"
    }
   ],
   "source": [
    "batch_size_parameter = 128\n",
    "print('Embedding...')\n",
    "data_to_embed = data['cleaned']\n",
    "embeddings = model.encode(data_to_embed, convert_to_tensor=True, batch_size = batch_size_parameter, show_progress_bar = True)"
   ]
  },
  {
   "cell_type": "markdown",
   "metadata": {},
   "source": [
    "The embeddings are returned as a matrix. Each row in the matrix corresponds to one tweet. Each column corresponds to one dimension of the vectors. Therefore, the matrix has the shape: (number of sentences, number of embedding dimensions)"
   ]
  },
  {
   "cell_type": "code",
   "execution_count": 42,
   "metadata": {
    "colab": {
     "background_save": true
    },
    "id": "6wE-VlFFfxoN",
    "outputId": "800ee877-02de-4a37-f163-8b975ed0ab83"
   },
   "outputs": [
    {
     "name": "stdout",
     "output_type": "stream",
     "text": [
      "torch.Size([18866, 512])\n"
     ]
    },
    {
     "data": {
      "text/plain": [
       "tensor([[-4.6968e-02, -7.7402e-02, -1.9320e-02,  ...,  1.7619e-02,\n",
       "          5.0784e-03,  1.2681e-02],\n",
       "        [ 1.5901e-02, -9.0975e-02, -3.0791e-02,  ..., -2.0671e-02,\n",
       "         -5.7735e-04,  2.3119e-02],\n",
       "        [ 5.6255e-03, -6.8567e-02,  1.5634e-02,  ..., -4.3354e-02,\n",
       "         -3.5120e-02,  3.4669e-02],\n",
       "        ...,\n",
       "        [-7.3171e-02, -3.6846e-03, -6.7659e-02,  ...,  9.0373e-03,\n",
       "          3.6213e-02, -7.4100e-04],\n",
       "        [ 2.5374e-02, -6.2420e-02, -8.8677e-03,  ..., -2.6728e-02,\n",
       "         -9.8171e-03,  2.0913e-02],\n",
       "        [ 8.8709e-03, -3.0195e-02, -2.2284e-02,  ..., -1.9723e-02,\n",
       "         -7.6648e-07, -1.1837e-03]])"
      ]
     },
     "execution_count": 42,
     "metadata": {},
     "output_type": "execute_result"
    }
   ],
   "source": [
    "print(embeddings.shape)\n",
    "embeddings[:10]"
   ]
  },
  {
   "cell_type": "markdown",
   "metadata": {
    "id": "-uTRjmBY56bu"
   },
   "source": [
    "# Reduce dimensionality with UMAP\n",
    "The embedding vectors assigned to the tweets are high-dimensional. In this case, the dimensionality is 512. \n",
    "We reduce the dimensionality to 200 to make it easier for the following algorithm to find clusters of similar tweets.\n",
    "Uniform Manifold Approximation and Projection for Dimension Reduction (UMAP) is used for dimensionality reduction. (https://umap-learn.readthedocs.io/en/latest/)\n",
    "\n",
    "McInnes, L, Healy, J, UMAP: Uniform Manifold Approximation and Projection for Dimension Reduction, ArXiv e-prints 1802.03426, 2018\n",
    "\n",
    "An intuitive explanation of UMAP can be found at: https://pair-code.github.io/understanding-umap/"
   ]
  },
  {
   "cell_type": "code",
   "execution_count": 43,
   "metadata": {},
   "outputs": [],
   "source": [
    "import umap as umap"
   ]
  },
  {
   "cell_type": "code",
   "execution_count": 44,
   "metadata": {
    "colab": {
     "background_save": true
    },
    "id": "RKaE0v9JNVY6",
    "outputId": "5613e0bf-8e53-4174-cccb-330f91bddbb5"
   },
   "outputs": [
    {
     "name": "stdout",
     "output_type": "stream",
     "text": [
      "UMAP(angular_rp_forest=True, dens_frac=0.0, dens_lambda=0.0,\n",
      "     force_approximation_algorithm=True, metric='cosine', n_components=200,\n",
      "     n_neighbors=30, verbose=True)\n",
      "Construct fuzzy simplicial set\n",
      "Wed Aug 11 15:04:05 2021 Finding Nearest Neighbors\n",
      "Wed Aug 11 15:04:05 2021 Building RP forest with 12 trees\n",
      "Wed Aug 11 15:04:06 2021 NN descent for 14 iterations\n",
      "\t 1  /  14\n",
      "\t 2  /  14\n",
      "\t 3  /  14\n",
      "\t 4  /  14\n",
      "\t 5  /  14\n",
      "\t 6  /  14\n",
      "\tStopping threshold met -- exiting after 6 iterations\n",
      "Wed Aug 11 15:04:24 2021 Finished Nearest Neighbor Search\n",
      "Wed Aug 11 15:04:27 2021 Construct embedding\n",
      "\tcompleted  0  /  200 epochs\n",
      "\tcompleted  20  /  200 epochs\n",
      "\tcompleted  40  /  200 epochs\n",
      "\tcompleted  60  /  200 epochs\n",
      "\tcompleted  80  /  200 epochs\n",
      "\tcompleted  100  /  200 epochs\n",
      "\tcompleted  120  /  200 epochs\n",
      "\tcompleted  140  /  200 epochs\n",
      "\tcompleted  160  /  200 epochs\n",
      "\tcompleted  180  /  200 epochs\n",
      "Wed Aug 11 15:06:14 2021 Finished embedding\n"
     ]
    }
   ],
   "source": [
    "num_dimensions =200\n",
    "\n",
    "\n",
    "reducer = umap.UMAP(n_neighbors=30, \n",
    "                     n_components=num_dimensions, \n",
    "                     metric='cosine',\n",
    "                    verbose = True,\n",
    "                    init='spectral',\n",
    "                     min_dist=.1,\n",
    "                     #spread=5.0, \n",
    "                     #set_op_mix_ratio=1.0, \n",
    "                     #local_connectivity=1.0, \n",
    "                     #negative_sample_rate=5, \n",
    "                     #transform_queue_size=4.0, \n",
    "                     force_approximation_algorithm=True, \n",
    "                     unique=False\n",
    "                      )\n",
    "embeddings_umap = reducer.fit_transform(embeddings)\n",
    "  \n",
    "\n",
    "embeddings_reduced = embeddings_umap"
   ]
  },
  {
   "cell_type": "markdown",
   "metadata": {},
   "source": [
    "We can compare embeddings before and after dimensionality reduction by visually expecting their first two dimensions of the vectors.\n",
    "We use scatterplots in which each (blue) dot corresponds to one of the tweets.\n",
    "The first plot shows points seemingly randomly spread around the center of the plot.\n",
    "In the second plot disctinct clusters are visible."
   ]
  },
  {
   "cell_type": "code",
   "execution_count": 45,
   "metadata": {
    "colab": {
     "background_save": true
    },
    "id": "PlGRFZFfW_4z",
    "outputId": "d00a23c4-349e-43a6-cb16-50bbaa5daba2"
   },
   "outputs": [
    {
     "data": {
      "image/png": "[encoded data removed]",
      "text/plain": [
       "<Figure size 640x480 with 1 Axes>"
      ]
     },
     "metadata": {},
     "output_type": "display_data"
    }
   ],
   "source": [
    "plt.scatter(embeddings[:, 0], embeddings[:,1], alpha=0.2, s = 1)\n",
    "plt.show()"
   ]
  },
  {
   "cell_type": "code",
   "execution_count": 46,
   "metadata": {},
   "outputs": [
    {
     "data": {
      "image/png": "[encoded data removed]",
      "text/plain": [
       "<Figure size 640x480 with 1 Axes>"
      ]
     },
     "metadata": {},
     "output_type": "display_data"
    }
   ],
   "source": [
    "plt.scatter(embeddings_reduced[:, 0], embeddings_reduced[:,1], alpha=0.2, s = 1)\n",
    "plt.show()"
   ]
  },
  {
   "cell_type": "markdown",
   "metadata": {
    "id": "7_hhO4e65-_o"
   },
   "source": [
    "# Cluster tweets with K-Medoids\n",
    "\n",
    "We are interested in the topics discussed in the among the tweets.\n",
    "To do this, we want to find clusters of similar similar embeddings which stand for semantically similar comments. \n",
    "We use a method called K-Medoids (https://scikit-learn-extra.readthedocs.io/en/stable/generated/sklearn_extra.cluster.KMedoids.html#sklearn_extra.cluster.KMedoids)\n",
    "\n",
    "Maranzana, F.E., 1963. On the location of supply points to minimize transportation costs. IBM Systems Journal, 2(2), pp.129-135.\n",
    "\n",
    "Park, H.S.and Jun, C.H., 2009. A simple and fast algorithm for K-medoids clustering. Expert systems with applications, 36(2), pp.3336-3341.\n",
    "\n",
    "For an intuitive explanation of the K-Medoids algorithm, see: https://medium.com/analytics-vidhya/what-is-k-medoid-clustering-why-and-how-b4e518c49e10\n",
    "\n",
    "**Note: The number of clusters we want to find has to be specified when using K-Medoids. Normally, it is not known beforehand, how many clusters are in the data. Several methods exist to find the otimal number of clusters, for example the elbow method (https://en.wikipedia.org/wiki/Elbow_method_(clustering)), or the Silhouette Score (https://en.wikipedia.org/wiki/Silhouette_(clustering)). For brevity, we assume the optimal number of clusters is set without any additional methods, but instead determined by iterative clustering and expection of the resulting clusters.**"
   ]
  },
  {
   "cell_type": "code",
   "execution_count": 48,
   "metadata": {},
   "outputs": [],
   "source": [
    "from sklearn_extra.cluster import KMedoids"
   ]
  },
  {
   "cell_type": "code",
   "execution_count": 49,
   "metadata": {},
   "outputs": [
    {
     "name": "stdout",
     "output_type": "stream",
     "text": [
      "2\n",
      "n_clusters: 2 silhouette_avg: 0.22268453\n",
      "12\n",
      "n_clusters: 12 silhouette_avg: 0.24681914\n",
      "22\n",
      "n_clusters: 22 silhouette_avg: 0.26514888\n",
      "32\n",
      "n_clusters: 32 silhouette_avg: 0.27378842\n",
      "42\n",
      "n_clusters: 42 silhouette_avg: 0.25560638\n",
      "52\n",
      "n_clusters: 52 silhouette_avg: 0.25016424\n",
      "62\n",
      "n_clusters: 62 silhouette_avg: 0.26913938\n",
      "72\n",
      "n_clusters: 72 silhouette_avg: 0.26924452\n",
      "82\n",
      "n_clusters: 82 silhouette_avg: 0.26771724\n",
      "92\n",
      "n_clusters: 92 silhouette_avg: 0.26918408\n",
      "102\n",
      "n_clusters: 102 silhouette_avg: 0.26520747\n",
      "112\n",
      "n_clusters: 112 silhouette_avg: 0.26360968\n",
      "122\n",
      "n_clusters: 122 silhouette_avg: 0.26840982\n",
      "132\n",
      "n_clusters: 132 silhouette_avg: 0.2747982\n",
      "142\n",
      "n_clusters: 142 silhouette_avg: 0.2789637\n",
      "152\n",
      "n_clusters: 152 silhouette_avg: 0.28258318\n",
      "162\n",
      "n_clusters: 162 silhouette_avg: 0.2758688\n",
      "172\n",
      "n_clusters: 172 silhouette_avg: 0.2625663\n",
      "182\n",
      "n_clusters: 182 silhouette_avg: 0.26324964\n",
      "192\n",
      "n_clusters: 192 silhouette_avg: 0.26776418\n"
     ]
    },
    {
     "data": {
      "image/png": "[encoded data removed]",
      "text/plain": [
       "<Figure size 640x480 with 1 Axes>"
      ]
     },
     "metadata": {},
     "output_type": "display_data"
    }
   ],
   "source": [
    "#optimize number of clusters\n",
    "from sklearn.metrics import silhouette_score\n",
    "import seaborn as sns\n",
    "optimize_number_of_clusters = True#@param {type:'boolean'}\n",
    "\n",
    "min_clusters=2 \n",
    "max_clusters=200 \n",
    "step=10 \n",
    "\n",
    "if optimize_number_of_clusters:\n",
    "    rows_list = []\n",
    "    inertias = []\n",
    "    n_clusters = []\n",
    "    silouette_scores = []\n",
    "    init_param = 'k-medoids++' #@param ['random', 'heuristic', 'k-medoids++']\n",
    "    random_state_param=1234 #@param {type:'number'}\n",
    "    for i in range(min_clusters,max_clusters, step):\n",
    "        print(i)\n",
    "        temp_clustering = KMedoids(n_clusters=i, metric='euclidean', init=init_param, max_iter=200, random_state=random_state_param).fit(embeddings_umap)\n",
    "        silhouette_avg = silhouette_score(embeddings_umap, temp_clustering.labels_)\n",
    "        print(\"n_clusters:\",i, \"silhouette_avg:\",silhouette_avg)\n",
    "        silhouette_dict = {'number of clusters': i, 'silhouette average': silhouette_avg}\n",
    "        rows_list.append(silhouette_dict)\n",
    "    results = pd.DataFrame(rows_list)\n",
    "    sns.lineplot(x = 'number of clusters', y = 'silhouette average',data = results)\n",
    "    plt.show()"
   ]
  },
  {
   "cell_type": "code",
   "execution_count": 1,
   "metadata": {},
   "outputs": [
    {
     "ename": "NameError",
     "evalue": "name 'clustering' is not defined",
     "output_type": "error",
     "traceback": [
      "\u001b[0;31m---------------------------------------------------------------------------\u001b[0m",
      "\u001b[0;31mNameError\u001b[0m                                 Traceback (most recent call last)",
      "\u001b[0;32m<ipython-input-1-ecc7922e18b1>\u001b[0m in \u001b[0;36m<module>\u001b[0;34m\u001b[0m\n\u001b[1;32m      1\u001b[0m \u001b[0;32mfrom\u001b[0m \u001b[0myellowbrick\u001b[0m\u001b[0;34m.\u001b[0m\u001b[0mcluster\u001b[0m \u001b[0;32mimport\u001b[0m \u001b[0msilhouette_visualizer\u001b[0m\u001b[0;34m\u001b[0m\u001b[0;34m\u001b[0m\u001b[0m\n\u001b[0;32m----> 2\u001b[0;31m \u001b[0msilhouette_visualizer\u001b[0m\u001b[0;34m(\u001b[0m\u001b[0mclustering\u001b[0m\u001b[0;34m,\u001b[0m\u001b[0membeddings_reduced\u001b[0m\u001b[0;34m,\u001b[0m \u001b[0mcolors\u001b[0m\u001b[0;34m=\u001b[0m\u001b[0;34m'yellowbrick'\u001b[0m\u001b[0;34m,\u001b[0m  \u001b[0mis_fitted\u001b[0m\u001b[0;34m=\u001b[0m\u001b[0;32mTrue\u001b[0m\u001b[0;34m)\u001b[0m\u001b[0;34m\u001b[0m\u001b[0;34m\u001b[0m\u001b[0m\n\u001b[0m",
      "\u001b[0;31mNameError\u001b[0m: name 'clustering' is not defined"
     ]
    }
   ],
   "source": [
    "from yellowbrick.cluster import silhouette_visualizer\n",
    "silhouette_visualizer(clustering,embeddings_reduced, colors='yellowbrick',  is_fitted=True)"
   ]
  },
  {
   "cell_type": "code",
   "execution_count": null,
   "metadata": {},
   "outputs": [],
   "source": []
  }
 ],
 "metadata": {
  "colab": {
   "name": "Scenario_1.ipynb",
   "provenance": []
  },
  "kernelspec": {
   "display_name": "Python 3",
   "language": "python",
   "name": "python3"
  },
  "language_info": {
   "codemirror_mode": {
    "name": "ipython",
    "version": 3
   },
   "file_extension": ".py",
   "mimetype": "text/x-python",
   "name": "python",
   "nbconvert_exporter": "python",
   "pygments_lexer": "ipython3",
   "version": "3.9.6"
  },
  "widgets": {
   "application/vnd.jupyter.widget-state+json": {
    "04677e5830754566a2337a7e50cb14aa": {
     "model_module": "@jupyter-widgets/base",
     "model_name": "LayoutModel",
     "state": {
      "_model_module": "@jupyter-widgets/base",
      "_model_module_version": "1.2.0",
      "_model_name": "LayoutModel",
      "_view_count": null,
      "_view_module": "@jupyter-widgets/base",
      "_view_module_version": "1.2.0",
      "_view_name": "LayoutView",
      "align_content": null,
      "align_items": null,
      "align_self": null,
      "border": null,
      "bottom": null,
      "display": null,
      "flex": null,
      "flex_flow": null,
      "grid_area": null,
      "grid_auto_columns": null,
      "grid_auto_flow": null,
      "grid_auto_rows": null,
      "grid_column": null,
      "grid_gap": null,
      "grid_row": null,
      "grid_template_areas": null,
      "grid_template_columns": null,
      "grid_template_rows": null,
      "height": null,
      "justify_content": null,
      "justify_items": null,
      "left": null,
      "margin": null,
      "max_height": null,
      "max_width": null,
      "min_height": null,
      "min_width": null,
      "object_fit": null,
      "object_position": null,
      "order": null,
      "overflow": null,
      "overflow_x": null,
      "overflow_y": null,
      "padding": null,
      "right": null,
      "top": null,
      "visibility": null,
      "width": null
     }
    },
    "0d23def4223948c6ad8afd49b06f1e69": {
     "model_module": "@jupyter-widgets/controls",
     "model_name": "ProgressStyleModel",
     "state": {
      "_model_module": "@jupyter-widgets/controls",
      "_model_module_version": "1.5.0",
      "_model_name": "ProgressStyleModel",
      "_view_count": null,
      "_view_module": "@jupyter-widgets/base",
      "_view_module_version": "1.2.0",
      "_view_name": "StyleView",
      "bar_color": null,
      "description_width": "initial"
     }
    },
    "684be7aeefb649e7a5700da9d69c0d5f": {
     "model_module": "@jupyter-widgets/controls",
     "model_name": "HTMLModel",
     "state": {
      "_dom_classes": [],
      "_model_module": "@jupyter-widgets/controls",
      "_model_module_version": "1.5.0",
      "_model_name": "HTMLModel",
      "_view_count": null,
      "_view_module": "@jupyter-widgets/controls",
      "_view_module_version": "1.5.0",
      "_view_name": "HTMLView",
      "description": "",
      "description_tooltip": null,
      "layout": "IPY_MODEL_04677e5830754566a2337a7e50cb14aa",
      "placeholder": "​",
      "style": "IPY_MODEL_a32043d4a8f94ed186c5c69bb042a8d6",
      "value": " 5/60 [02:05&lt;22:58, 25.06s/it]"
     }
    },
    "a32043d4a8f94ed186c5c69bb042a8d6": {
     "model_module": "@jupyter-widgets/controls",
     "model_name": "DescriptionStyleModel",
     "state": {
      "_model_module": "@jupyter-widgets/controls",
      "_model_module_version": "1.5.0",
      "_model_name": "DescriptionStyleModel",
      "_view_count": null,
      "_view_module": "@jupyter-widgets/base",
      "_view_module_version": "1.2.0",
      "_view_name": "StyleView",
      "description_width": ""
     }
    },
    "d6ed8e611e5041768981426163dc8f70": {
     "model_module": "@jupyter-widgets/controls",
     "model_name": "FloatProgressModel",
     "state": {
      "_dom_classes": [],
      "_model_module": "@jupyter-widgets/controls",
      "_model_module_version": "1.5.0",
      "_model_name": "FloatProgressModel",
      "_view_count": null,
      "_view_module": "@jupyter-widgets/controls",
      "_view_module_version": "1.5.0",
      "_view_name": "ProgressView",
      "bar_style": "",
      "description": "Batches:   8%",
      "description_tooltip": null,
      "layout": "IPY_MODEL_f2ab639942064be2a54aae50750c7220",
      "max": 60,
      "min": 0,
      "orientation": "horizontal",
      "style": "IPY_MODEL_0d23def4223948c6ad8afd49b06f1e69",
      "value": 5
     }
    },
    "f1b3ebf42fb0433aa1beeafb94cb8c80": {
     "model_module": "@jupyter-widgets/base",
     "model_name": "LayoutModel",
     "state": {
      "_model_module": "@jupyter-widgets/base",
      "_model_module_version": "1.2.0",
      "_model_name": "LayoutModel",
      "_view_count": null,
      "_view_module": "@jupyter-widgets/base",
      "_view_module_version": "1.2.0",
      "_view_name": "LayoutView",
      "align_content": null,
      "align_items": null,
      "align_self": null,
      "border": null,
      "bottom": null,
      "display": null,
      "flex": null,
      "flex_flow": null,
      "grid_area": null,
      "grid_auto_columns": null,
      "grid_auto_flow": null,
      "grid_auto_rows": null,
      "grid_column": null,
      "grid_gap": null,
      "grid_row": null,
      "grid_template_areas": null,
      "grid_template_columns": null,
      "grid_template_rows": null,
      "height": null,
      "justify_content": null,
      "justify_items": null,
      "left": null,
      "margin": null,
      "max_height": null,
      "max_width": null,
      "min_height": null,
      "min_width": null,
      "object_fit": null,
      "object_position": null,
      "order": null,
      "overflow": null,
      "overflow_x": null,
      "overflow_y": null,
      "padding": null,
      "right": null,
      "top": null,
      "visibility": null,
      "width": null
     }
    },
    "f2ab639942064be2a54aae50750c7220": {
     "model_module": "@jupyter-widgets/base",
     "model_name": "LayoutModel",
     "state": {
      "_model_module": "@jupyter-widgets/base",
      "_model_module_version": "1.2.0",
      "_model_name": "LayoutModel",
      "_view_count": null,
      "_view_module": "@jupyter-widgets/base",
      "_view_module_version": "1.2.0",
      "_view_name": "LayoutView",
      "align_content": null,
      "align_items": null,
      "align_self": null,
      "border": null,
      "bottom": null,
      "display": null,
      "flex": null,
      "flex_flow": null,
      "grid_area": null,
      "grid_auto_columns": null,
      "grid_auto_flow": null,
      "grid_auto_rows": null,
      "grid_column": null,
      "grid_gap": null,
      "grid_row": null,
      "grid_template_areas": null,
      "grid_template_columns": null,
      "grid_template_rows": null,
      "height": null,
      "justify_content": null,
      "justify_items": null,
      "left": null,
      "margin": null,
      "max_height": null,
      "max_width": null,
      "min_height": null,
      "min_width": null,
      "object_fit": null,
      "object_position": null,
      "order": null,
      "overflow": null,
      "overflow_x": null,
      "overflow_y": null,
      "padding": null,
      "right": null,
      "top": null,
      "visibility": null,
      "width": null
     }
    },
    "fe92717b5ffd4189b7246df035ed4e39": {
     "model_module": "@jupyter-widgets/controls",
     "model_name": "HBoxModel",
     "state": {
      "_dom_classes": [],
      "_model_module": "@jupyter-widgets/controls",
      "_model_module_version": "1.5.0",
      "_model_name": "HBoxModel",
      "_view_count": null,
      "_view_module": "@jupyter-widgets/controls",
      "_view_module_version": "1.5.0",
      "_view_name": "HBoxView",
      "box_style": "",
      "children": [
       "IPY_MODEL_d6ed8e611e5041768981426163dc8f70",
       "IPY_MODEL_684be7aeefb649e7a5700da9d69c0d5f"
      ],
      "layout": "IPY_MODEL_f1b3ebf42fb0433aa1beeafb94cb8c80"
     }
    }
   }
  }
 },
 "nbformat": 4,
 "nbformat_minor": 4
}
