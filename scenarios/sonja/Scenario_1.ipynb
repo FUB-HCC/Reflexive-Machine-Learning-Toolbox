{
 "cells": [
  {
   "cell_type": "markdown",
   "metadata": {
    "id": "eKNtk6SObeJA"
   },
   "source": [
    "# Scenario Social media research (Sonja)\n",
    "\n",
    "Sonja (pseudonym) is a media scholar and analyzes online debates on social media platforms. She is interested in the ways people debate certain issues online (e.g. climate change, COVID19) or how and why they debate (e.g. political deliberation, hate speech, faktoids). In the past, she focused on post-video discussions on YouTube and debates on Twitter, but plans to focus on other platforms in the future (e.g. Telegram, Reddit). Her main empirical material consists of the postings (e.g. tweets) arranged in a list. Sonja typically uses qualitative coding techniques for theory buidling (e.g. grounded theory) to make sense of the data. She would label the data items by hand in MS Excel, then iteratively refine her codes (\"labels\") and compare the data with existing theories from media studies and social science literature. Sonja also experimented with qualitative data analysis software (MAXQDA) to do this kind of work, which recently added functionalities for social media text analysis. She decided, however, that the functionalities are not helpful for his purposes or impede the way she likes to structure her data coding and analysis.\n",
    "\n",
    "The main challenge for Sonja is to become familiar with relatively large datasets, identify interesting data points and get hold of changing dynamics in the discussion of a subject. She typically spends a lot of time scrolling through the data and looking for these elements. Much of the data is actually not particularly interesting for her and hidden gems may only appear after long sessions of such scrolling and diagonal reading. It would be great to have technical instruments available to gain new perspectives and 'surface' interesting data points and their relationships.\n",
    "\n",
    "Sonja has basic knowledge of programming languages for data science (R, Python) and is familiar with data analysis software used in social media analysis (e.g. network analysis). She is open and ready to set up his own programming environment (e.g. a Jupyter Notebook) and is interested to incorporate and experiment with state-of-the-art technologies (e.g. machine learning)."
   ]
  },
  {
   "cell_type": "markdown",
   "metadata": {},
   "source": [
    "**Note: For this example we use a dataset from https://www.kaggle.com/edqian/twitter-climate-change-sentiment-dataset. The dataset has been created by Edward Qian. The Tweets contained in the dataset are annotated manually with the sentiment they express towards climate change. \"Each tweet is labelled as one of the following classes:, 2(News): the tweet links to factual news about climate change, 1(Pro): the tweet supports the belief of man-made climate change, 0(Neutral: the tweet neither supports nor refutes the belief of man-made climate change, -1(Anti): the tweet does not believe in man-made climate change\"\n",
    "We are not using the sentiment labels in this example, because we are only interested in the content of the tweet and want to simulate an unexplored dataset. Therefore, we drop the labels after loading the data.**"
   ]
  },
  {
   "cell_type": "markdown",
   "metadata": {
    "id": "QPjtEPbZbuky"
   },
   "source": [
    "# Sonja's Approach\n",
    "\n",
    "Sonja uses a range of machine learning and visualization techniques that support her in getting familiar with large datasets and finding interesting data.\n",
    "\n",
    "Sonja is interested in the discourse on COVID-19 on Twitter. She downloaded a dataset using the Twitter API and is interested in analyzing the content of the tweets.\n",
    "\n",
    "She uses modules from the Reflexive ML Toolbox to analyze her data.\n",
    "Her two main interests are \n",
    "1. mapping out the topics people talk about in her data.\n",
    "2. analyzing how interest in certain topics changed over time.\n",
    "\n",
    "She follows the following procedure:\n",
    "1. Setup\n",
    "2. Load Data\n",
    "3. Preprocess Data\n",
    "4. Embed data with a pretrained language model\n",
    "5. Reduce dimensionality of embedded data\n",
    "6. Cluster similar data\n",
    "7. Extract information about Clusters\n",
    "8. Interpret and label clusters\n",
    "9. Visualize interest in topics over time\n",
    "\n",
    "This notebook follows this procedure. Each step is explained at the corresponding position.\n",
    "\n",
    "In practice, Sonja does not work with the notebook linearly. Instead, she goes back and forth between the steps and optimizes the model until she finds a topic she is interested in."
   ]
  },
  {
   "cell_type": "markdown",
   "metadata": {
    "id": "udm08-RF6kR6"
   },
   "source": [
    "# Setup\n",
    "Sonja starts by setting up the enviroment she wants to work in.\n",
    "\n",
    "The Reflexive ML Toolbox relies on external packages that provide useful functionality. For instance, the package *pandas* provides functionality for working with spreadsheet-like data.\n",
    "These libraries have to be installed to the system that runs the Jupyter Notebook and subsequently loaded (or imported) into the notebook so they can be used in the code."
   ]
  },
  {
   "cell_type": "markdown",
   "metadata": {
    "id": "-aFAmH-o7zXe"
   },
   "source": [
    "## Install Packages\n",
    "\n",
    "Some of the libraries used in this notebook are not installed by default. \n",
    "We use the package manager Anaconda to install the missing libraries. \n",
    "See the Setup.txt for a step-by-step guide on how to set up Jupyter Lab and Anaconda."
   ]
  },
  {
   "cell_type": "code",
   "execution_count": 1,
   "metadata": {
    "colab": {
     "base_uri": "https://localhost:8080/"
    },
    "id": "f0jHqH3J7pBC",
    "outputId": "5cae174c-dfa5-437d-a7bc-8ae68819392f"
   },
   "outputs": [
    {
     "name": "stdout",
     "output_type": "stream",
     "text": [
      "Collecting package metadata (current_repodata.json): done\n",
      "Solving environment: done\n",
      "\n",
      "\n",
      "==> WARNING: A newer version of conda exists. <==\n",
      "  current version: 4.9.2\n",
      "  latest version: 4.10.3\n",
      "\n",
      "Please update conda by running\n",
      "\n",
      "    $ conda update -n base conda\n",
      "\n",
      "\n",
      "\n",
      "## Package Plan ##\n",
      "\n",
      "  environment location: /opt/anaconda3/envs/reflexiveml\n",
      "\n",
      "  added / updated specs:\n",
      "    - html2text\n",
      "\n",
      "\n",
      "The following packages will be downloaded:\n",
      "\n",
      "    package                    |            build\n",
      "    ---------------------------|-----------------\n",
      "    html2text-2020.1.16        |             py_0          33 KB  conda-forge\n",
      "    ------------------------------------------------------------\n",
      "                                           Total:          33 KB\n",
      "\n",
      "The following NEW packages will be INSTALLED:\n",
      "\n",
      "  html2text          conda-forge/noarch::html2text-2020.1.16-py_0\n",
      "\n",
      "\n",
      "\n",
      "Downloading and Extracting Packages\n",
      "html2text-2020.1.16  | 33 KB     | ##################################### | 100% \n",
      "Preparing transaction: done\n",
      "Verifying transaction: done\n",
      "Executing transaction: done\n",
      "Collecting package metadata (current_repodata.json): done\n",
      "Solving environment: done\n",
      "\n",
      "\n",
      "==> WARNING: A newer version of conda exists. <==\n",
      "  current version: 4.9.2\n",
      "  latest version: 4.10.3\n",
      "\n",
      "Please update conda by running\n",
      "\n",
      "    $ conda update -n base conda\n",
      "\n",
      "\n",
      "\n",
      "## Package Plan ##\n",
      "\n",
      "  environment location: /opt/anaconda3/envs/reflexiveml\n",
      "\n",
      "  added / updated specs:\n",
      "    - sentence-transformers\n",
      "\n",
      "\n",
      "The following packages will be downloaded:\n",
      "\n",
      "    package                    |            build\n",
      "    ---------------------------|-----------------\n",
      "    click-8.0.1                |   py39h6e9494a_0         146 KB  conda-forge\n",
      "    colorama-0.4.4             |     pyh9f0ad1d_0          18 KB  conda-forge\n",
      "    dataclasses-0.8            |     pyhc8e2a94_1           7 KB  conda-forge\n",
      "    filelock-3.0.12            |     pyh9f0ad1d_0          10 KB  conda-forge\n",
      "    future-0.18.2              |   py39h6e9494a_3         713 KB  conda-forge\n",
      "    huggingface_hub-0.0.15     |     pyhd8ed1ab_0          46 KB  conda-forge\n",
      "    libblas-3.9.0              |     11_osx64_mkl          12 KB  conda-forge\n",
      "    libcxx-12.0.1              |       habf9029_0         1.1 MB  conda-forge\n",
      "    libprotobuf-3.16.0         |       hcf210ce_0         2.1 MB  conda-forge\n",
      "    ninja-1.10.2               |       h9a9d8cb_0         107 KB  conda-forge\n",
      "    nltk-3.6.2                 |     pyhd8ed1ab_0         1.1 MB  conda-forge\n",
      "    pytorch-1.9.0              |cpu_py39h37f9f7c_1        68.7 MB  conda-forge\n",
      "    pyyaml-5.4.1               |   py39hcbf5805_0         173 KB  conda-forge\n",
      "    regex-2021.8.3             |   py39h89e85a6_0         353 KB  conda-forge\n",
      "    sacremoses-0.0.43          |     pyh9f0ad1d_0         430 KB  conda-forge\n",
      "    sentence-transformers-2.0.0|     pyhd8ed1ab_0          82 KB  conda-forge\n",
      "    sleef-3.5.1                |       h35c211d_1         1.0 MB  conda-forge\n",
      "    tokenizers-0.10.1          |   py39h6561821_0         1.9 MB  conda-forge\n",
      "    tqdm-4.62.0                |     pyhd8ed1ab_0          80 KB  conda-forge\n",
      "    transformers-4.9.2         |     pyhd8ed1ab_0         1.3 MB  conda-forge\n",
      "    typing-extensions-3.10.0.0 |       hd8ed1ab_0           8 KB  conda-forge\n",
      "    typing_extensions-3.10.0.0 |     pyha770c72_0          28 KB  conda-forge\n",
      "    yaml-0.2.5                 |       haf1e3a3_0          81 KB  conda-forge\n",
      "    ------------------------------------------------------------\n",
      "                                           Total:        79.4 MB\n",
      "\n",
      "The following NEW packages will be INSTALLED:\n",
      "\n",
      "  click              conda-forge/osx-64::click-8.0.1-py39h6e9494a_0\n",
      "  colorama           conda-forge/noarch::colorama-0.4.4-pyh9f0ad1d_0\n",
      "  dataclasses        conda-forge/noarch::dataclasses-0.8-pyhc8e2a94_1\n",
      "  filelock           conda-forge/noarch::filelock-3.0.12-pyh9f0ad1d_0\n",
      "  future             conda-forge/osx-64::future-0.18.2-py39h6e9494a_3\n",
      "  huggingface_hub    conda-forge/noarch::huggingface_hub-0.0.15-pyhd8ed1ab_0\n",
      "  libblas            conda-forge/osx-64::libblas-3.9.0-11_osx64_mkl\n",
      "  libprotobuf        conda-forge/osx-64::libprotobuf-3.16.0-hcf210ce_0\n",
      "  ninja              conda-forge/osx-64::ninja-1.10.2-h9a9d8cb_0\n",
      "  nltk               conda-forge/noarch::nltk-3.6.2-pyhd8ed1ab_0\n",
      "  pytorch            conda-forge/osx-64::pytorch-1.9.0-cpu_py39h37f9f7c_1\n",
      "  pyyaml             conda-forge/osx-64::pyyaml-5.4.1-py39hcbf5805_0\n",
      "  regex              conda-forge/osx-64::regex-2021.8.3-py39h89e85a6_0\n",
      "  sacremoses         conda-forge/noarch::sacremoses-0.0.43-pyh9f0ad1d_0\n",
      "  sentence-transfor~ conda-forge/noarch::sentence-transformers-2.0.0-pyhd8ed1ab_0\n",
      "  sleef              conda-forge/osx-64::sleef-3.5.1-h35c211d_1\n",
      "  tokenizers         conda-forge/osx-64::tokenizers-0.10.1-py39h6561821_0\n",
      "  tqdm               conda-forge/noarch::tqdm-4.62.0-pyhd8ed1ab_0\n",
      "  transformers       conda-forge/noarch::transformers-4.9.2-pyhd8ed1ab_0\n",
      "  typing-extensions  conda-forge/noarch::typing-extensions-3.10.0.0-hd8ed1ab_0\n",
      "  typing_extensions  conda-forge/noarch::typing_extensions-3.10.0.0-pyha770c72_0\n",
      "  yaml               conda-forge/osx-64::yaml-0.2.5-haf1e3a3_0\n",
      "\n",
      "The following packages will be UPDATED:\n",
      "\n",
      "  libcxx                         pkgs/main::libcxx-10.0.0-1 --> conda-forge::libcxx-12.0.1-habf9029_0\n",
      "\n",
      "\n",
      "\n",
      "Downloading and Extracting Packages\n",
      "nltk-3.6.2           | 1.1 MB    | ##################################### | 100% \n",
      "huggingface_hub-0.0. | 46 KB     | ##################################### | 100% \n",
      "future-0.18.2        | 713 KB    | ##################################### | 100% \n",
      "regex-2021.8.3       | 353 KB    | ##################################### | 100% \n",
      "yaml-0.2.5           | 81 KB     | ##################################### | 100% \n",
      "libblas-3.9.0        | 12 KB     | ##################################### | 100% \n",
      "colorama-0.4.4       | 18 KB     | ##################################### | 100% \n",
      "dataclasses-0.8      | 7 KB      | ##################################### | 100% \n",
      "typing-extensions-3. | 8 KB      | ##################################### | 100% \n",
      "click-8.0.1          | 146 KB    | ##################################### | 100% \n",
      "sleef-3.5.1          | 1.0 MB    | ##################################### | 100% \n",
      "tqdm-4.62.0          | 80 KB     | ##################################### | 100% \n",
      "filelock-3.0.12      | 10 KB     | ##################################### | 100% \n",
      "ninja-1.10.2         | 107 KB    | ##################################### | 100% \n",
      "tokenizers-0.10.1    | 1.9 MB    | ##################################### | 100% \n",
      "libcxx-12.0.1        | 1.1 MB    | ##################################### | 100% \n",
      "pyyaml-5.4.1         | 173 KB    | ##################################### | 100% \n",
      "sacremoses-0.0.43    | 430 KB    | ##################################### | 100% \n",
      "pytorch-1.9.0        | 68.7 MB   | ##################################### | 100% \n",
      "sentence-transformer | 82 KB     | ##################################### | 100% \n",
      "typing_extensions-3. | 28 KB     | ##################################### | 100% \n",
      "libprotobuf-3.16.0   | 2.1 MB    | ##################################### | 100% \n",
      "transformers-4.9.2   | 1.3 MB    | ##################################### | 100% \n",
      "Preparing transaction: done\n",
      "Verifying transaction: done\n",
      "Executing transaction: done\n",
      "Collecting package metadata (current_repodata.json): done\n",
      "Solving environment: done\n",
      "\n",
      "\n",
      "==> WARNING: A newer version of conda exists. <==\n",
      "  current version: 4.9.2\n",
      "  latest version: 4.10.3\n",
      "\n",
      "Please update conda by running\n",
      "\n",
      "    $ conda update -n base conda\n",
      "\n",
      "\n",
      "\n",
      "## Package Plan ##\n",
      "\n",
      "  environment location: /opt/anaconda3/envs/reflexiveml\n",
      "\n",
      "  added / updated specs:\n",
      "    - pandas\n",
      "\n",
      "\n",
      "The following packages will be UPDATED:\n",
      "\n",
      "  ca-certificates    conda-forge::ca-certificates-2021.5.3~ --> pkgs/main::ca-certificates-2021.7.5-hecd8cb5_1\n",
      "\n",
      "The following packages will be SUPERSEDED by a higher-priority channel:\n",
      "\n",
      "  certifi            conda-forge::certifi-2021.5.30-py39h6~ --> pkgs/main::certifi-2021.5.30-py39hecd8cb5_0\n",
      "  openssl            conda-forge::openssl-1.1.1k-h0d85af4_0 --> pkgs/main::openssl-1.1.1k-h9ed2024_0\n",
      "\n",
      "\n",
      "Preparing transaction: done\n",
      "Verifying transaction: done\n",
      "Executing transaction: done\n",
      "Collecting package metadata (current_repodata.json): done\n",
      "Solving environment: done\n",
      "\n",
      "\n",
      "==> WARNING: A newer version of conda exists. <==\n",
      "  current version: 4.9.2\n",
      "  latest version: 4.10.3\n",
      "\n",
      "Please update conda by running\n",
      "\n",
      "    $ conda update -n base conda\n",
      "\n",
      "\n",
      "\n",
      "## Package Plan ##\n",
      "\n",
      "  environment location: /opt/anaconda3/envs/reflexiveml\n",
      "\n",
      "  added / updated specs:\n",
      "    - matplotlib\n",
      "\n",
      "\n",
      "The following packages will be SUPERSEDED by a higher-priority channel:\n",
      "\n",
      "  ca-certificates    pkgs/main::ca-certificates-2021.7.5-h~ --> conda-forge::ca-certificates-2021.5.30-h033912b_0\n",
      "  certifi            pkgs/main::certifi-2021.5.30-py39hecd~ --> conda-forge::certifi-2021.5.30-py39h6e9494a_0\n",
      "  openssl              pkgs/main::openssl-1.1.1k-h9ed2024_0 --> conda-forge::openssl-1.1.1k-h0d85af4_0\n",
      "\n",
      "\n",
      "Preparing transaction: done\n",
      "Verifying transaction: done\n",
      "Executing transaction: done\n",
      "Collecting package metadata (current_repodata.json): done\n",
      "Solving environment: done\n",
      "\n",
      "\n",
      "==> WARNING: A newer version of conda exists. <==\n",
      "  current version: 4.9.2\n",
      "  latest version: 4.10.3\n",
      "\n",
      "Please update conda by running\n",
      "\n",
      "    $ conda update -n base conda\n",
      "\n",
      "\n",
      "\n",
      "# All requested packages already installed.\n",
      "\n",
      "Collecting package metadata (current_repodata.json): done\n",
      "Solving environment: failed with initial frozen solve. Retrying with flexible solve.\n",
      "Solving environment: failed with repodata from current_repodata.json, will retry with next repodata source.\n",
      "Collecting package metadata (repodata.json): done\n",
      "Solving environment: failed with initial frozen solve. Retrying with flexible solve.\n",
      "Solving environment: \\ ^C\n",
      "failed\n",
      "\n",
      "CondaError: KeyboardInterrupt\n",
      "\n"
     ]
    }
   ],
   "source": [
    "!conda install -c conda-forge html2text -y\n",
    "!conda install -c conda-forge sentence-transformers -y\n",
    "!conda install pandas --y\n",
    "!conda install -c conda-forge matplotlib -y\n",
    "!conda install -c conda-forge umap-learn -y\n",
    "!conda install -c conda-forge scikit-learn-extra -y"
   ]
  },
  {
   "cell_type": "markdown",
   "metadata": {
    "id": "7yvrwuZAYxRC"
   },
   "source": [
    "## Imports\n",
    "We need some libraries to run our code. After importing them into our notebook, we can use them.\n",
    "\n",
    "We use the following Libraries:\n",
    "\n",
    "*NumPy (np)* 'is a library for the Python programming language, adding support for large, multi-dimensional arrays and matrices, along with a large collection of high-level mathematical functions to operate on these arrays.' (https://en.wikipedia.org/wiki/NumPy\n",
    "\n",
    "*Pandas (pd)* 'is a fast, powerful, flexible and easy to use open source data analysis and manipulation tool, built on top of the Python programming language.' (https://pandas.pydata.org/) Pandas represents data in a spreadsheet-like format and allows us to manipulate it accordingly.\n",
    "\n",
    "*sentence_transformers* 'SentenceTransformers is a Python framework for state-of-the-art sentence, text and image embeddings. The initial work is described in our paper Sentence-BERT: Sentence Embeddings using Siamese BERT-Networks.\n",
    "You can use this framework to compute sentence / text embeddings for more than 100 languages. These embeddings can then be compared e.g. with cosine-similarity to find sentences with a similar meaning. This can be useful for semantic textual similar, semantic search, or paraphrase mining. The framework is based on PyTorch and Transformers and offers a large collection of pre-trained models tuned for various tasks. Further, it is easy to fine-tune your own models.' (https://www.sbert.net/)\n",
    "\n",
    "*matplotlib* 'Matplotlib is a comprehensive library for creating static, animated, and interactive visualizations in Python.' (https://matplotlib.org/)"
   ]
  },
  {
   "cell_type": "code",
   "execution_count": 48,
   "metadata": {
    "id": "L15COQxvc0tx"
   },
   "outputs": [],
   "source": [
    "import numpy as np\n",
    "\n",
    "import pandas as pd\n",
    "\n",
    "from sentence_transformers import SentenceTransformer,util\n",
    "\n",
    "from html2text import HTML2Text\n",
    "from tqdm import tqdm\n",
    "\n",
    "import matplotlib.pyplot as plt"
   ]
  },
  {
   "cell_type": "markdown",
   "metadata": {
    "id": "bIYnK6gcc0tz"
   },
   "source": [
    "## Set Pandas print options\n",
    "\n",
    "To get more readable outputs when printing our data in Pandas, we set some print options."
   ]
  },
  {
   "cell_type": "code",
   "execution_count": 26,
   "metadata": {
    "id": "Zf1XanQ8c0tz"
   },
   "outputs": [],
   "source": [
    "#pandas print options\n",
    "\n",
    "pd.set_option('display.max_rows', None)\n",
    "pd.set_option('display.max_columns', None)\n",
    "pd.set_option('display.width', None)\n",
    "pd.set_option('display.max_colwidth', None)"
   ]
  },
  {
   "cell_type": "markdown",
   "metadata": {
    "id": "v4ncieDZ5yqK"
   },
   "source": [
    "# Load Data\n",
    "\n",
    "Data Source: https://www.kaggle.com/edqian/twitter-climate-change-sentiment-dataset \n",
    "\n",
    "The data is formatted as comma-separated values (csv) and saved as a .csv-file.\n",
    "We load the data using pandas which will allow us to tread it like a spreadsheet with rows and columns.\n",
    "Further, we specify, which column contains the text of the tweets."
   ]
  },
  {
   "cell_type": "code",
   "execution_count": 27,
   "metadata": {
    "id": "uO8Zx3f55fgS"
   },
   "outputs": [],
   "source": [
    "data = pd.read_csv(\"twitter_sentiment_data_dates.csv\", encoding=\"'UTF-8'\")\n",
    "text_column = 'message'"
   ]
  },
  {
   "cell_type": "markdown",
   "metadata": {},
   "source": [
    "We print the first 10 rows of our spreadsheet to make sure we loaded the data correctly."
   ]
  },
  {
   "cell_type": "code",
   "execution_count": 28,
   "metadata": {
    "colab": {
     "base_uri": "https://localhost:8080/",
     "height": 1000
    },
    "id": "P2XqCqhI87_t",
    "outputId": "e81fe7bd-dde6-4e9d-a7b9-bc56318ef54b"
   },
   "outputs": [
    {
     "data": {
      "text/html": [
       "<div>\n",
       "<style scoped>\n",
       "    .dataframe tbody tr th:only-of-type {\n",
       "        vertical-align: middle;\n",
       "    }\n",
       "\n",
       "    .dataframe tbody tr th {\n",
       "        vertical-align: top;\n",
       "    }\n",
       "\n",
       "    .dataframe thead th {\n",
       "        text-align: right;\n",
       "    }\n",
       "</style>\n",
       "<table border=\"1\" class=\"dataframe\">\n",
       "  <thead>\n",
       "    <tr style=\"text-align: right;\">\n",
       "      <th></th>\n",
       "      <th>Unnamed: 0</th>\n",
       "      <th>sentiment</th>\n",
       "      <th>message</th>\n",
       "      <th>tweetid</th>\n",
       "      <th>publishedAt</th>\n",
       "    </tr>\n",
       "  </thead>\n",
       "  <tbody>\n",
       "    <tr>\n",
       "      <th>0</th>\n",
       "      <td>0</td>\n",
       "      <td>-1</td>\n",
       "      <td>@tiniebeany climate change is an interesting hustle as it was global warming but the planet stopped warming for 15 yes while the suv boom</td>\n",
       "      <td>792927353886371840</td>\n",
       "      <td>2019-10-20</td>\n",
       "    </tr>\n",
       "    <tr>\n",
       "      <th>1</th>\n",
       "      <td>1</td>\n",
       "      <td>1</td>\n",
       "      <td>RT @NatGeoChannel: Watch #BeforeTheFlood right here, as @LeoDiCaprio travels the world to tackle climate change https://t.co/LkDehj3tNn httÃ¢â‚¬Â¦</td>\n",
       "      <td>793124211518832641</td>\n",
       "      <td>2019-12-27</td>\n",
       "    </tr>\n",
       "    <tr>\n",
       "      <th>2</th>\n",
       "      <td>2</td>\n",
       "      <td>1</td>\n",
       "      <td>Fabulous! Leonardo #DiCaprio's film on #climate change is brilliant!!! Do watch. https://t.co/7rV6BrmxjW via @youtube</td>\n",
       "      <td>793124402388832256</td>\n",
       "      <td>2019-08-13</td>\n",
       "    </tr>\n",
       "    <tr>\n",
       "      <th>3</th>\n",
       "      <td>3</td>\n",
       "      <td>1</td>\n",
       "      <td>RT @Mick_Fanning: Just watched this amazing documentary by leonardodicaprio on climate change. We all think thisÃ¢â‚¬Â¦ https://t.co/kNSTE8K8im</td>\n",
       "      <td>793124635873275904</td>\n",
       "      <td>2019-08-09</td>\n",
       "    </tr>\n",
       "    <tr>\n",
       "      <th>4</th>\n",
       "      <td>4</td>\n",
       "      <td>2</td>\n",
       "      <td>RT @cnalive: Pranita Biswasi, a Lutheran from Odisha, gives testimony on effects of climate change &amp;amp; natural disasters on the poÃ¢â‚¬Â¦</td>\n",
       "      <td>793125156185137153</td>\n",
       "      <td>2020-05-12</td>\n",
       "    </tr>\n",
       "    <tr>\n",
       "      <th>5</th>\n",
       "      <td>5</td>\n",
       "      <td>0</td>\n",
       "      <td>Unamshow awache kujinga na iko global warming https://t.co/mhIflU7M1X</td>\n",
       "      <td>793125429418815489</td>\n",
       "      <td>2020-10-01</td>\n",
       "    </tr>\n",
       "    <tr>\n",
       "      <th>6</th>\n",
       "      <td>6</td>\n",
       "      <td>2</td>\n",
       "      <td>RT @cnalive: Pranita Biswasi, a Lutheran from Odisha, gives testimony on effects of climate change &amp;amp; natural disasters on the poÃ¢â‚¬Â¦</td>\n",
       "      <td>793125430236684289</td>\n",
       "      <td>2019-08-03</td>\n",
       "    </tr>\n",
       "    <tr>\n",
       "      <th>7</th>\n",
       "      <td>7</td>\n",
       "      <td>2</td>\n",
       "      <td>RT @CCIRiviera: Presidential Candidate #DonaldTrump is Ã¢â‚¬Å“dangerousÃ¢â‚¬ï† on climate change, says #monaco Ã¢â‚¬â„¢s Prince AlbertÃ¢â‚¬Â¦</td>\n",
       "      <td>793126558688878592</td>\n",
       "      <td>2019-11-19</td>\n",
       "    </tr>\n",
       "    <tr>\n",
       "      <th>8</th>\n",
       "      <td>8</td>\n",
       "      <td>0</td>\n",
       "      <td>RT @AmericanIndian8: Leonardo DiCaprio's climate change documentary is free for a week https://t.co/ITpdZ6kCeg\\n#INDIGENOUS #TAIRP https://tÃ¢â‚¬Â¦</td>\n",
       "      <td>793127097854197761</td>\n",
       "      <td>2020-10-03</td>\n",
       "    </tr>\n",
       "    <tr>\n",
       "      <th>9</th>\n",
       "      <td>9</td>\n",
       "      <td>1</td>\n",
       "      <td>#BeforeTheFlood Watch #BeforeTheFlood right here, as @LeoDiCaprio travels the world to tackle climate change... https://t.co/HCIZrPUhLF</td>\n",
       "      <td>793127346106753028</td>\n",
       "      <td>2020-07-30</td>\n",
       "    </tr>\n",
       "  </tbody>\n",
       "</table>\n",
       "</div>"
      ],
      "text/plain": [
       "   Unnamed: 0  sentiment  \\\n",
       "0           0         -1   \n",
       "1           1          1   \n",
       "2           2          1   \n",
       "3           3          1   \n",
       "4           4          2   \n",
       "5           5          0   \n",
       "6           6          2   \n",
       "7           7          2   \n",
       "8           8          0   \n",
       "9           9          1   \n",
       "\n",
       "                                                                                                                                               message  \\\n",
       "0            @tiniebeany climate change is an interesting hustle as it was global warming but the planet stopped warming for 15 yes while the suv boom   \n",
       "1   RT @NatGeoChannel: Watch #BeforeTheFlood right here, as @LeoDiCaprio travels the world to tackle climate change https://t.co/LkDehj3tNn httÃ¢â‚¬Â¦   \n",
       "2                                Fabulous! Leonardo #DiCaprio's film on #climate change is brilliant!!! Do watch. https://t.co/7rV6BrmxjW via @youtube   \n",
       "3      RT @Mick_Fanning: Just watched this amazing documentary by leonardodicaprio on climate change. We all think thisÃ¢â‚¬Â¦ https://t.co/kNSTE8K8im   \n",
       "4          RT @cnalive: Pranita Biswasi, a Lutheran from Odisha, gives testimony on effects of climate change &amp; natural disasters on the poÃ¢â‚¬Â¦   \n",
       "5                                                                                Unamshow awache kujinga na iko global warming https://t.co/mhIflU7M1X   \n",
       "6          RT @cnalive: Pranita Biswasi, a Lutheran from Odisha, gives testimony on effects of climate change &amp; natural disasters on the poÃ¢â‚¬Â¦   \n",
       "7       RT @CCIRiviera: Presidential Candidate #DonaldTrump is Ã¢â‚¬Å“dangerousÃ¢â‚¬ï† on climate change, says #monaco Ã¢â‚¬â„¢s Prince AlbertÃ¢â‚¬Â¦   \n",
       "8  RT @AmericanIndian8: Leonardo DiCaprio's climate change documentary is free for a week https://t.co/ITpdZ6kCeg\\n#INDIGENOUS #TAIRP https://tÃ¢â‚¬Â¦   \n",
       "9              #BeforeTheFlood Watch #BeforeTheFlood right here, as @LeoDiCaprio travels the world to tackle climate change... https://t.co/HCIZrPUhLF   \n",
       "\n",
       "              tweetid publishedAt  \n",
       "0  792927353886371840  2019-10-20  \n",
       "1  793124211518832641  2019-12-27  \n",
       "2  793124402388832256  2019-08-13  \n",
       "3  793124635873275904  2019-08-09  \n",
       "4  793125156185137153  2020-05-12  \n",
       "5  793125429418815489  2020-10-01  \n",
       "6  793125430236684289  2019-08-03  \n",
       "7  793126558688878592  2019-11-19  \n",
       "8  793127097854197761  2020-10-03  \n",
       "9  793127346106753028  2020-07-30  "
      ]
     },
     "execution_count": 28,
     "metadata": {},
     "output_type": "execute_result"
    }
   ],
   "source": [
    "data.head(10)"
   ]
  },
  {
   "cell_type": "markdown",
   "metadata": {
    "id": "VHRaCMbmc0t0"
   },
   "source": [
    "#Preprocessing\n",
    "\n",
    "Some preprocessing can be done to produce better embeddings. This step higly depends on the input data. For interviews, we could for example parse out speaker names, such as \\*Interviewer says\\*:"
   ]
  },
  {
   "cell_type": "markdown",
   "metadata": {
    "id": "Kgw2xlAtc0t0"
   },
   "source": [
    "## Drop unused rows and columns\n",
    "\n",
    "If Tweets do not contain any text, we drop them, because they would distort results.\n",
    "\n",
    "Further, we are not interested in the sentiment annotations, so we drop the corresponding column."
   ]
  },
  {
   "cell_type": "code",
   "execution_count": 29,
   "metadata": {
    "colab": {
     "base_uri": "https://localhost:8080/",
     "height": 323
    },
    "id": "qN1JViX1c0t0",
    "outputId": "bf326f5d-daa6-46fd-c504-0bb2afc4726e"
   },
   "outputs": [
    {
     "data": {
      "text/html": [
       "<div>\n",
       "<style scoped>\n",
       "    .dataframe tbody tr th:only-of-type {\n",
       "        vertical-align: middle;\n",
       "    }\n",
       "\n",
       "    .dataframe tbody tr th {\n",
       "        vertical-align: top;\n",
       "    }\n",
       "\n",
       "    .dataframe thead th {\n",
       "        text-align: right;\n",
       "    }\n",
       "</style>\n",
       "<table border=\"1\" class=\"dataframe\">\n",
       "  <thead>\n",
       "    <tr style=\"text-align: right;\">\n",
       "      <th></th>\n",
       "      <th>Unnamed: 0</th>\n",
       "      <th>message</th>\n",
       "      <th>tweetid</th>\n",
       "      <th>publishedAt</th>\n",
       "    </tr>\n",
       "  </thead>\n",
       "  <tbody>\n",
       "    <tr>\n",
       "      <th>0</th>\n",
       "      <td>0</td>\n",
       "      <td>@tiniebeany climate change is an interesting hustle as it was global warming but the planet stopped warming for 15 yes while the suv boom</td>\n",
       "      <td>792927353886371840</td>\n",
       "      <td>2019-10-20</td>\n",
       "    </tr>\n",
       "    <tr>\n",
       "      <th>1</th>\n",
       "      <td>1</td>\n",
       "      <td>RT @NatGeoChannel: Watch #BeforeTheFlood right here, as @LeoDiCaprio travels the world to tackle climate change https://t.co/LkDehj3tNn httÃ¢â‚¬Â¦</td>\n",
       "      <td>793124211518832641</td>\n",
       "      <td>2019-12-27</td>\n",
       "    </tr>\n",
       "    <tr>\n",
       "      <th>2</th>\n",
       "      <td>2</td>\n",
       "      <td>Fabulous! Leonardo #DiCaprio's film on #climate change is brilliant!!! Do watch. https://t.co/7rV6BrmxjW via @youtube</td>\n",
       "      <td>793124402388832256</td>\n",
       "      <td>2019-08-13</td>\n",
       "    </tr>\n",
       "    <tr>\n",
       "      <th>3</th>\n",
       "      <td>3</td>\n",
       "      <td>RT @Mick_Fanning: Just watched this amazing documentary by leonardodicaprio on climate change. We all think thisÃ¢â‚¬Â¦ https://t.co/kNSTE8K8im</td>\n",
       "      <td>793124635873275904</td>\n",
       "      <td>2019-08-09</td>\n",
       "    </tr>\n",
       "    <tr>\n",
       "      <th>4</th>\n",
       "      <td>4</td>\n",
       "      <td>RT @cnalive: Pranita Biswasi, a Lutheran from Odisha, gives testimony on effects of climate change &amp;amp; natural disasters on the poÃ¢â‚¬Â¦</td>\n",
       "      <td>793125156185137153</td>\n",
       "      <td>2020-05-12</td>\n",
       "    </tr>\n",
       "  </tbody>\n",
       "</table>\n",
       "</div>"
      ],
      "text/plain": [
       "   Unnamed: 0  \\\n",
       "0           0   \n",
       "1           1   \n",
       "2           2   \n",
       "3           3   \n",
       "4           4   \n",
       "\n",
       "                                                                                                                                              message  \\\n",
       "0           @tiniebeany climate change is an interesting hustle as it was global warming but the planet stopped warming for 15 yes while the suv boom   \n",
       "1  RT @NatGeoChannel: Watch #BeforeTheFlood right here, as @LeoDiCaprio travels the world to tackle climate change https://t.co/LkDehj3tNn httÃ¢â‚¬Â¦   \n",
       "2                               Fabulous! Leonardo #DiCaprio's film on #climate change is brilliant!!! Do watch. https://t.co/7rV6BrmxjW via @youtube   \n",
       "3     RT @Mick_Fanning: Just watched this amazing documentary by leonardodicaprio on climate change. We all think thisÃ¢â‚¬Â¦ https://t.co/kNSTE8K8im   \n",
       "4         RT @cnalive: Pranita Biswasi, a Lutheran from Odisha, gives testimony on effects of climate change &amp; natural disasters on the poÃ¢â‚¬Â¦   \n",
       "\n",
       "              tweetid publishedAt  \n",
       "0  792927353886371840  2019-10-20  \n",
       "1  793124211518832641  2019-12-27  \n",
       "2  793124402388832256  2019-08-13  \n",
       "3  793124635873275904  2019-08-09  \n",
       "4  793125156185137153  2020-05-12  "
      ]
     },
     "execution_count": 29,
     "metadata": {},
     "output_type": "execute_result"
    }
   ],
   "source": [
    "data = data.dropna(subset=[text_column]) # drop rows with no content\n",
    "data = data.drop(['sentiment'], axis = 1)\n",
    "data.head()"
   ]
  },
  {
   "cell_type": "code",
   "execution_count": 30,
   "metadata": {},
   "outputs": [
    {
     "data": {
      "text/plain": [
       "(1000, 4)"
      ]
     },
     "execution_count": 30,
     "metadata": {},
     "output_type": "execute_result"
    }
   ],
   "source": [
    "data=data.head(1000)\n",
    "data.shape"
   ]
  },
  {
   "cell_type": "markdown",
   "metadata": {
    "id": "CGxZBIiMc0t0"
   },
   "source": [
    "## Remove HTML Tags, Links, User names, new lines\n",
    "\n",
    "Before we analyze the tweets with our model we clean them to imporve performance.\n",
    "We filter out:\n",
    "- HTML-tags\n",
    "- Links\n",
    "- New-Line commands"
   ]
  },
  {
   "cell_type": "code",
   "execution_count": 31,
   "metadata": {
    "colab": {
     "base_uri": "https://localhost:8080/"
    },
    "id": "TuMDv_Etc0t0",
    "outputId": "4ebd79ed-d7a2-490e-ac65-dc1b6a6b9da5"
   },
   "outputs": [
    {
     "name": "stderr",
     "output_type": "stream",
     "text": [
      "100%|██████████| 1000/1000 [00:00<00:00, 8083.05it/s]"
     ]
    },
    {
     "name": "stdout",
     "output_type": "stream",
     "text": [
      "Removed HTML Tags:\n",
      "Removed Links\n",
      "Removed new line \n",
      "\n"
     ]
    },
    {
     "name": "stderr",
     "output_type": "stream",
     "text": [
      "\n"
     ]
    },
    {
     "data": {
      "text/html": [
       "<div>\n",
       "<style scoped>\n",
       "    .dataframe tbody tr th:only-of-type {\n",
       "        vertical-align: middle;\n",
       "    }\n",
       "\n",
       "    .dataframe tbody tr th {\n",
       "        vertical-align: top;\n",
       "    }\n",
       "\n",
       "    .dataframe thead th {\n",
       "        text-align: right;\n",
       "    }\n",
       "</style>\n",
       "<table border=\"1\" class=\"dataframe\">\n",
       "  <thead>\n",
       "    <tr style=\"text-align: right;\">\n",
       "      <th></th>\n",
       "      <th>Unnamed: 0</th>\n",
       "      <th>message</th>\n",
       "      <th>tweetid</th>\n",
       "      <th>publishedAt</th>\n",
       "      <th>cleaned</th>\n",
       "    </tr>\n",
       "  </thead>\n",
       "  <tbody>\n",
       "    <tr>\n",
       "      <th>0</th>\n",
       "      <td>0</td>\n",
       "      <td>@tiniebeany climate change is an interesting hustle as it was global warming but the planet stopped warming for 15 yes while the suv boom</td>\n",
       "      <td>792927353886371840</td>\n",
       "      <td>2019-10-20</td>\n",
       "      <td>@tiniebeany climate change is an interesting hustle as it was global warming but the planet stopped warming for 15 yes while the suv boom</td>\n",
       "    </tr>\n",
       "    <tr>\n",
       "      <th>1</th>\n",
       "      <td>1</td>\n",
       "      <td>RT @NatGeoChannel: Watch #BeforeTheFlood right here, as @LeoDiCaprio travels the world to tackle climate change https://t.co/LkDehj3tNn httÃ¢â‚¬Â¦</td>\n",
       "      <td>793124211518832641</td>\n",
       "      <td>2019-12-27</td>\n",
       "      <td>RT @NatGeoChannel: Watch #BeforeTheFlood right here, as @LeoDiCaprio travels the world to tackle climate change  httÃ¢â‚¬Â¦</td>\n",
       "    </tr>\n",
       "    <tr>\n",
       "      <th>2</th>\n",
       "      <td>2</td>\n",
       "      <td>Fabulous! Leonardo #DiCaprio's film on #climate change is brilliant!!! Do watch. https://t.co/7rV6BrmxjW via @youtube</td>\n",
       "      <td>793124402388832256</td>\n",
       "      <td>2019-08-13</td>\n",
       "      <td>Fabulous! Leonardo #DiCaprio's film on #climate change is brilliant!!! Do watch.  via @youtube</td>\n",
       "    </tr>\n",
       "    <tr>\n",
       "      <th>3</th>\n",
       "      <td>3</td>\n",
       "      <td>RT @Mick_Fanning: Just watched this amazing documentary by leonardodicaprio on climate change. We all think thisÃ¢â‚¬Â¦ https://t.co/kNSTE8K8im</td>\n",
       "      <td>793124635873275904</td>\n",
       "      <td>2019-08-09</td>\n",
       "      <td>RT @Mick_Fanning: Just watched this amazing documentary by leonardodicaprio on climate change. We all think thisÃ¢â‚¬Â¦</td>\n",
       "    </tr>\n",
       "    <tr>\n",
       "      <th>4</th>\n",
       "      <td>4</td>\n",
       "      <td>RT @cnalive: Pranita Biswasi, a Lutheran from Odisha, gives testimony on effects of climate change &amp;amp; natural disasters on the poÃ¢â‚¬Â¦</td>\n",
       "      <td>793125156185137153</td>\n",
       "      <td>2020-05-12</td>\n",
       "      <td>RT @cnalive: Pranita Biswasi, a Lutheran from Odisha, gives testimony on effects of climate change &amp; natural disasters on the poÃ¢â‚¬Â¦</td>\n",
       "    </tr>\n",
       "  </tbody>\n",
       "</table>\n",
       "</div>"
      ],
      "text/plain": [
       "   Unnamed: 0  \\\n",
       "0           0   \n",
       "1           1   \n",
       "2           2   \n",
       "3           3   \n",
       "4           4   \n",
       "\n",
       "                                                                                                                                              message  \\\n",
       "0           @tiniebeany climate change is an interesting hustle as it was global warming but the planet stopped warming for 15 yes while the suv boom   \n",
       "1  RT @NatGeoChannel: Watch #BeforeTheFlood right here, as @LeoDiCaprio travels the world to tackle climate change https://t.co/LkDehj3tNn httÃ¢â‚¬Â¦   \n",
       "2                               Fabulous! Leonardo #DiCaprio's film on #climate change is brilliant!!! Do watch. https://t.co/7rV6BrmxjW via @youtube   \n",
       "3     RT @Mick_Fanning: Just watched this amazing documentary by leonardodicaprio on climate change. We all think thisÃ¢â‚¬Â¦ https://t.co/kNSTE8K8im   \n",
       "4         RT @cnalive: Pranita Biswasi, a Lutheran from Odisha, gives testimony on effects of climate change &amp; natural disasters on the poÃ¢â‚¬Â¦   \n",
       "\n",
       "              tweetid publishedAt  \\\n",
       "0  792927353886371840  2019-10-20   \n",
       "1  793124211518832641  2019-12-27   \n",
       "2  793124402388832256  2019-08-13   \n",
       "3  793124635873275904  2019-08-09   \n",
       "4  793125156185137153  2020-05-12   \n",
       "\n",
       "                                                                                                                                       cleaned  \n",
       "0  @tiniebeany climate change is an interesting hustle as it was global warming but the planet stopped warming for 15 yes while the suv boom    \n",
       "1                RT @NatGeoChannel: Watch #BeforeTheFlood right here, as @LeoDiCaprio travels the world to tackle climate change  httÃ¢â‚¬Â¦    \n",
       "2                                             Fabulous! Leonardo #DiCaprio's film on #climate change is brilliant!!! Do watch.  via @youtube    \n",
       "3                   RT @Mick_Fanning: Just watched this amazing documentary by leonardodicaprio on climate change. We all think thisÃ¢â‚¬Â¦     \n",
       "4    RT @cnalive: Pranita Biswasi, a Lutheran from Odisha, gives testimony on effects of climate change & natural disasters on the poÃ¢â‚¬Â¦    "
      ]
     },
     "execution_count": 31,
     "metadata": {},
     "output_type": "execute_result"
    }
   ],
   "source": [
    "# Remove HTML tags\n",
    "tqdm.pandas()\n",
    "h = HTML2Text()\n",
    "h.ignore_links = True\n",
    "data['cleaned'] = data[text_column].progress_apply(lambda x: h.handle(x))\n",
    "print( \"Removed HTML Tags:\")\n",
    "\n",
    "# Remove links\n",
    "http_link_pattern = r'http\\S+'\n",
    "bitly_link_pattern = r'bit.ly/\\S+'\n",
    "data['cleaned'] = data['cleaned'].str.replace(http_link_pattern, '')\n",
    "data['cleaned'] = data['cleaned'].str.replace(bitly_link_pattern, '')\n",
    "print( \"Removed Links\")\n",
    "  \n",
    "# Remove new line \\n\n",
    "new_line_pattern = r'\\n'\n",
    "data['cleaned'] = data['cleaned'].str.replace(new_line_pattern, ' ')\n",
    "print( \"Removed new line \\n\")\n",
    "\n",
    "data.head()"
   ]
  },
  {
   "cell_type": "markdown",
   "metadata": {
    "id": "eXDWP4NO500u"
   },
   "source": [
    "# Embed Data with Universal Sentence Encoder\n",
    "\n",
    "We want to analyze the content of the tweets with machine learning. For this, we use a model that extracts information. about the content of the tweets. \n",
    "Conceptually, the model produces a vector for each of the tweets. The direction of the vectors corrsponds to the tweets' semantic meaning. \n",
    "If two vectors point in a similar direction, their semantic meaning is similar.\n",
    "\n",
    "For example, the tweets \"Climate change is dangerous\" and \"We have to be aware of the dangers of climate change\" are similar in meaning so their vectors would point in similar directions. \n",
    "The tweet \"Polar bears will go extinct\" is not as similar to the aforementioned tweets, so it's vector will point to a different direction.\n",
    "\n",
    "The process of assigning a vector to a piece of text is called *embedding*. \n",
    "\n",
    "We use a pretrained neural language model to produce embeddings of the tweets.\n",
    "The model has been trained with different datasets and has learned a general representation of the semantics of natural language. \n",
    "\n",
    "The model we use is called Universal Sentence Encoder:\n",
    "USE_Multilingual (hosted at: sbert.net , Paper: Yang, Y., Cer, D.M., Ahmad, A., Guo, M., Law, J., Constant, N., Ábrego, G., Yuan, S., Tar, C., Sung, Y., Strope, B., & Kurzweil, R. (2020). Multilingual Universal Sentence Encoder for Semantic Retrieval. ACL.)\n",
    "(https://public.ukp.informatik.tu-darmstadt.de/reimers/sentence-transformers/v0.2/) \n",
    "\n",
    "First, we load the model into the notebook and then we assign embeddings to the tweets."
   ]
  },
  {
   "cell_type": "markdown",
   "metadata": {
    "id": "ljvBMDKifhf_"
   },
   "source": [
    "## Load Model\n",
    "\n",
    "Before we can use the model we have to download it.\n"
   ]
  },
  {
   "cell_type": "code",
   "execution_count": 32,
   "metadata": {
    "id": "jSETznhEfhf_"
   },
   "outputs": [],
   "source": [
    "model = SentenceTransformer('distiluse-base-multilingual-cased-v1/')"
   ]
  },
  {
   "cell_type": "markdown",
   "metadata": {
    "id": "PuKajbbpfxoM"
   },
   "source": [
    "## Embed documents\n",
    "\n",
    "Then we can pass the tweets into the model and it will return embeddings.\n",
    "\n",
    "For each tweet (i.e. each row in the data frame) one embedding is generated."
   ]
  },
  {
   "cell_type": "code",
   "execution_count": 33,
   "metadata": {
    "colab": {
     "background_save": true,
     "base_uri": "https://localhost:8080/",
     "height": 66,
     "referenced_widgets": [
      "fe92717b5ffd4189b7246df035ed4e39",
      "d6ed8e611e5041768981426163dc8f70",
      "684be7aeefb649e7a5700da9d69c0d5f",
      "f1b3ebf42fb0433aa1beeafb94cb8c80",
      "f2ab639942064be2a54aae50750c7220",
      "0d23def4223948c6ad8afd49b06f1e69",
      "04677e5830754566a2337a7e50cb14aa",
      "a32043d4a8f94ed186c5c69bb042a8d6"
     ]
    },
    "id": "-pu1GQnnfxoN",
    "outputId": "6510d29a-cc62-4b39-dcb1-8d62cce49f47"
   },
   "outputs": [
    {
     "name": "stdout",
     "output_type": "stream",
     "text": [
      "Embedding...\n"
     ]
    },
    {
     "data": {
      "application/vnd.jupyter.widget-view+json": {
       "model_id": "aabcf4aa73054feaa99ac5795df576f6",
       "version_major": 2,
       "version_minor": 0
      },
      "text/plain": [
       "Batches:   0%|          | 0/8 [00:00<?, ?it/s]"
      ]
     },
     "metadata": {},
     "output_type": "display_data"
    }
   ],
   "source": [
    "batch_size_parameter = 128\n",
    "print('Embedding...')\n",
    "data_to_embed = data['cleaned']\n",
    "embeddings = model.encode(data_to_embed, convert_to_tensor=True, batch_size = batch_size_parameter, show_progress_bar = True)"
   ]
  },
  {
   "cell_type": "markdown",
   "metadata": {},
   "source": [
    "The embeddings are returned as a matrix. Each row in the matrix corresponds to one tweet. Each column corresponds to one dimension of the vectors. Therefore, the matrix has the shape: (number of sentences, number of embedding dimensions)"
   ]
  },
  {
   "cell_type": "code",
   "execution_count": 34,
   "metadata": {
    "colab": {
     "background_save": true
    },
    "id": "6wE-VlFFfxoN",
    "outputId": "800ee877-02de-4a37-f163-8b975ed0ab83"
   },
   "outputs": [
    {
     "name": "stdout",
     "output_type": "stream",
     "text": [
      "torch.Size([1000, 512])\n"
     ]
    },
    {
     "data": {
      "text/plain": [
       "tensor([[-0.0470, -0.0774, -0.0193,  ...,  0.0176,  0.0051,  0.0127],\n",
       "        [ 0.0094, -0.0548,  0.0037,  ..., -0.0317, -0.0108,  0.0153],\n",
       "        [ 0.0159, -0.0910, -0.0308,  ..., -0.0207, -0.0006,  0.0231],\n",
       "        ...,\n",
       "        [ 0.0120, -0.0599,  0.0243,  ..., -0.0266, -0.0075,  0.0118],\n",
       "        [ 0.0193, -0.0362, -0.0065,  ..., -0.0299,  0.0318,  0.0229],\n",
       "        [ 0.0318, -0.0696, -0.0380,  ..., -0.0037, -0.0348,  0.0168]])"
      ]
     },
     "execution_count": 34,
     "metadata": {},
     "output_type": "execute_result"
    }
   ],
   "source": [
    "print(embeddings.shape)\n",
    "embeddings[:10]"
   ]
  },
  {
   "cell_type": "markdown",
   "metadata": {
    "id": "-uTRjmBY56bu"
   },
   "source": [
    "# Reduce dimensionality with UMAP\n",
    "The embedding vectors assigned to the tweets are high-dimensional. In this case, the dimensionality is 512. \n",
    "We reduce the dimensionality to 200 to make it easier for the following algorithm to find clusters of similar tweets.\n",
    "Uniform Manifold Approximation and Projection for Dimension Reduction (UMAP) is used for dimensionality reduction. (https://umap-learn.readthedocs.io/en/latest/)\n",
    "\n",
    "McInnes, L, Healy, J, UMAP: Uniform Manifold Approximation and Projection for Dimension Reduction, ArXiv e-prints 1802.03426, 2018\n",
    "\n",
    "An intuitive explanation of UMAP can be found at: https://pair-code.github.io/understanding-umap/"
   ]
  },
  {
   "cell_type": "code",
   "execution_count": 35,
   "metadata": {},
   "outputs": [],
   "source": [
    "import umap as umap"
   ]
  },
  {
   "cell_type": "code",
   "execution_count": 36,
   "metadata": {
    "colab": {
     "background_save": true
    },
    "id": "RKaE0v9JNVY6",
    "outputId": "5613e0bf-8e53-4174-cccb-330f91bddbb5"
   },
   "outputs": [
    {
     "name": "stdout",
     "output_type": "stream",
     "text": [
      "UMAP(angular_rp_forest=True, dens_frac=0.0, dens_lambda=0.0,\n",
      "     force_approximation_algorithm=True, metric='cosine', n_components=200,\n",
      "     n_neighbors=30, verbose=True)\n",
      "Construct fuzzy simplicial set\n",
      "Tue Aug 10 21:06:45 2021 Finding Nearest Neighbors\n",
      "Tue Aug 10 21:06:45 2021 Building RP forest with 7 trees\n",
      "Tue Aug 10 21:06:45 2021 NN descent for 10 iterations\n",
      "\t 1  /  10\n",
      "\t 2  /  10\n",
      "\t 3  /  10\n",
      "\tStopping threshold met -- exiting after 3 iterations\n",
      "Tue Aug 10 21:06:46 2021 Finished Nearest Neighbor Search\n",
      "Tue Aug 10 21:06:46 2021 Construct embedding\n",
      "\tcompleted  0  /  500 epochs\n",
      "\tcompleted  50  /  500 epochs\n",
      "\tcompleted  100  /  500 epochs\n",
      "\tcompleted  150  /  500 epochs\n",
      "\tcompleted  200  /  500 epochs\n",
      "\tcompleted  250  /  500 epochs\n",
      "\tcompleted  300  /  500 epochs\n",
      "\tcompleted  350  /  500 epochs\n",
      "\tcompleted  400  /  500 epochs\n",
      "\tcompleted  450  /  500 epochs\n",
      "Tue Aug 10 21:07:01 2021 Finished embedding\n"
     ]
    }
   ],
   "source": [
    "num_dimensions =200\n",
    "\n",
    "\n",
    "reducer = umap.UMAP(n_neighbors=30, \n",
    "                     n_components=num_dimensions, \n",
    "                     metric='cosine',\n",
    "                    verbose = True,\n",
    "                    init='spectral',\n",
    "                     min_dist=.1,\n",
    "                     #spread=5.0, \n",
    "                     #set_op_mix_ratio=1.0, \n",
    "                     #local_connectivity=1.0, \n",
    "                     #negative_sample_rate=5, \n",
    "                     #transform_queue_size=4.0, \n",
    "                     force_approximation_algorithm=True, \n",
    "                     unique=False\n",
    "                      )\n",
    "embeddings_umap = reducer.fit_transform(embeddings)\n",
    "  \n",
    "\n",
    "embeddings_reduced = embeddings_umap"
   ]
  },
  {
   "cell_type": "markdown",
   "metadata": {},
   "source": [
    "We can compare embeddings before and after dimensionality reduction by visually expecting their first two dimensions of the vectors.\n",
    "We use scatterplots in which each (blue) dot corresponds to one of the tweets.\n",
    "The first plot shows points seemingly randomly spread around the center of the plot.\n",
    "In the second plot disctinct clusters are visible."
   ]
  },
  {
   "cell_type": "code",
   "execution_count": 37,
   "metadata": {
    "colab": {
     "background_save": true
    },
    "id": "PlGRFZFfW_4z",
    "outputId": "d00a23c4-349e-43a6-cb16-50bbaa5daba2"
   },
   "outputs": [
    {
     "data": {
      "image/png": "[encoded data removed]",
      "text/plain": [
       "<Figure size 640x480 with 1 Axes>"
      ]
     },
     "metadata": {},
     "output_type": "display_data"
    }
   ],
   "source": [
    "plt.scatter(embeddings[:, 0], embeddings[:,1], alpha=0.2, s = 1)\n",
    "plt.show()"
   ]
  },
  {
   "cell_type": "code",
   "execution_count": 38,
   "metadata": {},
   "outputs": [
    {
     "data": {
      "image/png": "[encoded data removed]",
      "text/plain": [
       "<Figure size 640x480 with 1 Axes>"
      ]
     },
     "metadata": {},
     "output_type": "display_data"
    }
   ],
   "source": [
    "plt.scatter(embeddings_reduced[:, 0], embeddings_reduced[:,1], alpha=0.2, s = 1)\n",
    "plt.show()"
   ]
  },
  {
   "cell_type": "markdown",
   "metadata": {
    "id": "7_hhO4e65-_o"
   },
   "source": [
    "# Cluster comments with K-Medoids\n",
    "\n",
    "We are interested in the topics discussed in the among the tweets.\n",
    "To do this, we want to find clusters of similar similar embeddings which stand for semantically similar comments. \n",
    "We use a method called K-Medoids (https://scikit-learn-extra.readthedocs.io/en/stable/generated/sklearn_extra.cluster.KMedoids.html#sklearn_extra.cluster.KMedoids)\n",
    "\n",
    "Maranzana, F.E., 1963. On the location of supply points to minimize transportation costs. IBM Systems Journal, 2(2), pp.129-135.\n",
    "\n",
    "Park, H.S.and Jun, C.H., 2009. A simple and fast algorithm for K-medoids clustering. Expert systems with applications, 36(2), pp.3336-3341.\n",
    "\n",
    "For an intuitive explanation of the K-Medoids algorithm, see: https://medium.com/analytics-vidhya/what-is-k-medoid-clustering-why-and-how-b4e518c49e10\n",
    "\n",
    "**Note: The number of clusters we want to find has to be specified when using K-Medoids. Normally, it is not known beforehand, how many clusters are in the data. Several methods exist to find the otimal number of clusters, for example the elbow method (https://en.wikipedia.org/wiki/Elbow_method_(clustering)), or the Silhouette Score (https://en.wikipedia.org/wiki/Silhouette_(clustering)). For brevity, we assume the optimal number of clusters is set without any additional methods, but instead determined by iterative clustering and expection of the resulting clusters.**"
   ]
  },
  {
   "cell_type": "code",
   "execution_count": 39,
   "metadata": {},
   "outputs": [],
   "source": [
    "from sklearn_extra.cluster import KMedoids"
   ]
  },
  {
   "cell_type": "code",
   "execution_count": 40,
   "metadata": {
    "colab": {
     "background_save": true
    },
    "id": "svtw3ohv_ZW2",
    "outputId": "62e6ded9-9eae-4e30-c00a-7ac04453eae5"
   },
   "outputs": [
    {
     "name": "stdout",
     "output_type": "stream",
     "text": [
      "cluster members 8      6\n",
      "6     12\n",
      "5     23\n",
      "9     50\n",
      "2     87\n",
      "3    104\n",
      "0    136\n",
      "7    163\n",
      "4    203\n",
      "1    216\n",
      "Name: label_kmedoids, dtype: int64\n"
     ]
    }
   ],
   "source": [
    "number_of_clusters =  10\n",
    "\n",
    "clustering = KMedoids(n_clusters=number_of_clusters,  init='k-medoids++').fit(embeddings_reduced)\n",
    "labels = clustering.labels_\n",
    "data[\"label_kmedoids\"] = labels\n",
    "print(\"cluster\",\"members\", data[\"label_kmedoids\"].value_counts().sort_values())\n",
    "medoids_indices = clustering.medoid_indices_\n",
    "\n",
    "cluster_method = 'label_kmedoids'"
   ]
  },
  {
   "cell_type": "markdown",
   "metadata": {},
   "source": [
    "# Extract information about Clusters"
   ]
  },
  {
   "cell_type": "markdown",
   "metadata": {
    "id": "JWmZRroTABMU"
   },
   "source": [
    "## Calculate Distance between Comments and closest cluster center\n",
    "\n",
    "An advantage of the K-Medoids algorithm is the fact that each cluster is represented by one of the tweets. This tweet is the center of that cluster. This allows us to more quickly make sense of what the cluster could be about by looking at it's center.\n",
    "\n",
    "We calculate the distance between each tweet and it's closest cluster center. We can then sort the tweets in one cluster by their distance the cluster center"
   ]
  },
  {
   "cell_type": "code",
   "execution_count": 41,
   "metadata": {
    "colab": {
     "background_save": true
    },
    "id": "Jhaxs0hGAG-1"
   },
   "outputs": [],
   "source": [
    "from sklearn.metrics import pairwise_distances\n",
    "distances = np.diag(pairwise_distances(X = clustering.cluster_centers_[labels], Y = embeddings_reduced[:], metric='cosine'))\n",
    "data[\"distance_kmedoids\"] = distances"
   ]
  },
  {
   "cell_type": "markdown",
   "metadata": {
    "id": "LEbOxSHk0DCk",
    "tags": []
   },
   "source": [
    "## Calculate Topwords of clusters using TF-IDF\n",
    "\n",
    "To help us with finding interesting clusters, we want to find what words are most important in each of the clusters. \n",
    "For this, we use TF-IDF (https://en.wikipedia.org/wiki/Tf%E2%80%93idf) to find the topwords for each of the clusters."
   ]
  },
  {
   "cell_type": "code",
   "execution_count": 42,
   "metadata": {
    "colab": {
     "background_save": true
    },
    "id": "g_JC2xkq0FoV",
    "outputId": "0336b9a8-82e5-4e52-fe8a-9c20600b00db"
   },
   "outputs": [
    {
     "name": "stdout",
     "output_type": "stream",
     "text": [
      "0 ['right', 'tackle', 'travels', 'world', 'httã']\n",
      "1 ['climate', 'change', 'rt', 'global', 'warming']\n",
      "2 ['china', 'trump', 'plan', 'exit', 'pact']\n",
      "3 ['change', 'climate', 'documentary', 'rt', 'leonardo']\n",
      "4 ['warming', 'global', 'rt', 'change', 'climate']\n",
      "5 ['help', 'change', 'climate', 'rt', 'eating']\n",
      "6 ['americans', 'even', 'less', 'worried', 'mitchellvii']\n",
      "7 ['climate', 'change', 'rt', 'trump', 'hillary']\n",
      "8 ['also', 'join', 'tweet', 'think', 'tank']\n",
      "9 ['climate', 'change', 'polar', 'rt', 'winter']\n"
     ]
    },
    {
     "name": "stderr",
     "output_type": "stream",
     "text": [
      "[nltk_data] Downloading package stopwords to\n",
      "[nltk_data]     /Users/mtebbe/nltk_data...\n",
      "[nltk_data]   Package stopwords is already up-to-date!\n"
     ]
    }
   ],
   "source": [
    "import warnings\n",
    "warnings.filterwarnings('ignore')\n",
    "\n",
    "cluster_number = 0\n",
    "from sklearn.feature_extraction.text import CountVectorizer, TfidfTransformer\n",
    "import nltk\n",
    "\n",
    "nltk.download('stopwords')\n",
    "stopwords = set(nltk.corpus.stopwords.words('english'))\n",
    "\n",
    "#stopwords Dennis\n",
    "#better_stoplist = open(\"/content/drive/My Drive/Data LUSIR/\"+'german_stopwords_full_BE_MOD Topics.txt', \n",
    "#                encoding='UTF-16', mode='r').read().split()\n",
    "\n",
    "data['topwords'] = ''  \n",
    "for i in range(number_of_clusters):\n",
    "  countVec = CountVectorizer(stop_words=stopwords)\n",
    "  #countVec = CountVectorizer()\n",
    "\n",
    "  data_tfidf = data[data[cluster_method]==i]\n",
    "\n",
    "  countVec.fit(data_tfidf[\"cleaned\"])\n",
    "  \n",
    "  list(countVec.vocabulary_.items())\n",
    "\n",
    "  #%%\n",
    "  #convert to bag of words\n",
    "  #sparse matrix representation? (README: could use an edit/explanation)\n",
    "  countVec_count = countVec.transform(data_tfidf[\"cleaned\"])\n",
    "\n",
    "  #%%\n",
    "  #make array from number of occurrences\n",
    "  occ = np.asarray(countVec_count.sum(axis=0)).ravel().tolist()\n",
    "\n",
    "  #make a new data frame with columns term and occurrences, meaning word and number of occurences\n",
    "  bowListFrame = pd.DataFrame({'term': countVec.get_feature_names(), 'occurrences': occ})\n",
    "  #print(bowListFrame)\n",
    "\n",
    "  #sort in order of number of word occurences, most->least. if you leave of ascending flag should default ASC\n",
    "  bowListFrame.sort_values(by='occurrences', ascending=False).head(60)\n",
    "\n",
    "  #%%\n",
    "  #now, convert to a more useful ranking system, tf-idf weights\n",
    "  #TfidfTransformer: scale raw word counts to a weighted ranking using the\n",
    "  #https://scikit-learn.org/stable/modules/generated/sklearn.feature_extraction.text.TfidfTransformer.html\n",
    "  sentenceTransformer = TfidfTransformer()\n",
    "\n",
    "\n",
    "  #initial fit representation using transformer object\n",
    "  sentenceWeights = sentenceTransformer.fit_transform(countVec_count)\n",
    "\n",
    "  #follow similar process to making new data frame with word occurrences, but with term weights\n",
    "  sentenceWeightsFin = np.asarray(sentenceWeights.mean(axis=0)).ravel().tolist()\n",
    "\n",
    "  #now that we've done Tfid, make a dataframe with weights and names\n",
    "  sentenceWeightFrame = pd.DataFrame({'term': countVec.get_feature_names(), 'weight': sentenceWeightsFin, 'cluster': i})\n",
    "  #print(sentenceWeightFrame)\n",
    "  top_words = sentenceWeightFrame.sort_values(by='weight', ascending=False).head(5)['term'].tolist()\n",
    "  print(i,top_words)\n",
    "  data.loc[data[cluster_method]== i , 'topwords'] = ', '.join(top_words)\n",
    "  "
   ]
  },
  {
   "cell_type": "markdown",
   "metadata": {},
   "source": [
    "# Interpret and label Clusters\n",
    "\n",
    "Now, we can start analyzing and interpreting the detected clusters.\n",
    "\n",
    "All of the extrated information has been added to our dataset as new columns:\n",
    "- **'label_kmedoids'** : cluster the tweet belongs to\n",
    "- **'topwords'** : topwords of the cluster the tweet belongs to\n",
    "- **'distance_kmedoids'**: distance to cluster center"
   ]
  },
  {
   "cell_type": "markdown",
   "metadata": {
    "id": "Osv-yWoBAQsm"
   },
   "source": [
    "## Print Cluster Centers\n",
    "\n",
    "We can get an overview of the detected clusters by printing their cluster centers. "
   ]
  },
  {
   "cell_type": "code",
   "execution_count": 49,
   "metadata": {},
   "outputs": [
    {
     "name": "stdout",
     "output_type": "stream",
     "text": [
      "['Unnamed: 0', 'message', 'tweetid', 'publishedAt', 'cleaned', 'label_kmedoids', 'distance_kmedoids', 'topwords', 'semi']\n"
     ]
    }
   ],
   "source": [
    "print( list(data.columns.values))"
   ]
  },
  {
   "cell_type": "code",
   "execution_count": 44,
   "metadata": {
    "colab": {
     "background_save": true
    },
    "id": "S8thQKvOAS__"
   },
   "outputs": [
    {
     "data": {
      "text/html": [
       "<div>\n",
       "<style scoped>\n",
       "    .dataframe tbody tr th:only-of-type {\n",
       "        vertical-align: middle;\n",
       "    }\n",
       "\n",
       "    .dataframe tbody tr th {\n",
       "        vertical-align: top;\n",
       "    }\n",
       "\n",
       "    .dataframe thead th {\n",
       "        text-align: right;\n",
       "    }\n",
       "</style>\n",
       "<table border=\"1\" class=\"dataframe\">\n",
       "  <thead>\n",
       "    <tr style=\"text-align: right;\">\n",
       "      <th></th>\n",
       "      <th>label_kmedoids</th>\n",
       "      <th>message</th>\n",
       "      <th>topwords</th>\n",
       "      <th>tweetid</th>\n",
       "      <th>publishedAt</th>\n",
       "      <th>distance_kmedoids</th>\n",
       "      <th>cleaned</th>\n",
       "      <th>Unnamed: 0</th>\n",
       "    </tr>\n",
       "  </thead>\n",
       "  <tbody>\n",
       "    <tr>\n",
       "      <th>358</th>\n",
       "      <td>0</td>\n",
       "      <td>RT @NatGeoChannel: Watch #BeforeTheFlood right here, as @LeoDiCaprio travels the world to tackle climate change https://t.co/LkDehj3tNn httÃ¢â‚¬Â¦</td>\n",
       "      <td>right, tackle, travels, world, httã</td>\n",
       "      <td>793358803320336384</td>\n",
       "      <td>2020-12-10</td>\n",
       "      <td>1.192093e-07</td>\n",
       "      <td>RT @NatGeoChannel: Watch #BeforeTheFlood right here, as @LeoDiCaprio travels the world to tackle climate change  httÃ¢â‚¬Â¦</td>\n",
       "      <td>358</td>\n",
       "    </tr>\n",
       "    <tr>\n",
       "      <th>597</th>\n",
       "      <td>1</td>\n",
       "      <td>RT @94kristin: let's talk climate change</td>\n",
       "      <td>climate, change, rt, global, warming</td>\n",
       "      <td>793497173983764481</td>\n",
       "      <td>2020-03-27</td>\n",
       "      <td>0.000000e+00</td>\n",
       "      <td>RT @94kristin: let's talk climate change</td>\n",
       "      <td>597</td>\n",
       "    </tr>\n",
       "    <tr>\n",
       "      <th>583</th>\n",
       "      <td>2</td>\n",
       "      <td>RT @sciam: China criticizes Trump plan to exit climate change pact https://t.co/BxZFX1Xgxc https://t.co/tB92yrH6Bk</td>\n",
       "      <td>china, trump, plan, exit, pact</td>\n",
       "      <td>793493218642067457</td>\n",
       "      <td>2019-05-05</td>\n",
       "      <td>1.788139e-07</td>\n",
       "      <td>RT @sciam: China criticizes Trump plan to exit climate change pact</td>\n",
       "      <td>583</td>\n",
       "    </tr>\n",
       "    <tr>\n",
       "      <th>882</th>\n",
       "      <td>3</td>\n",
       "      <td>Ã¢â‚¬Â¢ Inhabitat: Watch Leonardo DiCaprio's riveting new climate change documentary 'Before TheÃ¢â‚¬Â¦ https://t.co/XuH1Hw8rMM</td>\n",
       "      <td>change, climate, documentary, rt, leonardo</td>\n",
       "      <td>793771700580155393</td>\n",
       "      <td>2020-10-09</td>\n",
       "      <td>1.788139e-07</td>\n",
       "      <td>Ã¢â‚¬Â¢ Inhabitat: Watch Leonardo DiCaprio's riveting new climate change documentary 'Before TheÃ¢â‚¬Â¦</td>\n",
       "      <td>882</td>\n",
       "    </tr>\n",
       "    <tr>\n",
       "      <th>705</th>\n",
       "      <td>4</td>\n",
       "      <td>RT @whomiscale: ahem, ahem, [coughing on smog] sorry. anyways, global warming isn't real</td>\n",
       "      <td>warming, global, rt, change, climate</td>\n",
       "      <td>793551559179112448</td>\n",
       "      <td>2020-02-07</td>\n",
       "      <td>1.788139e-07</td>\n",
       "      <td>RT @whomiscale: ahem, ahem, [coughing on smog] sorry. anyways, global warming isn't real</td>\n",
       "      <td>705</td>\n",
       "    </tr>\n",
       "    <tr>\n",
       "      <th>755</th>\n",
       "      <td>5</td>\n",
       "      <td>RT @RacingXtinction: One of the easiest ways to help combat climate change is to stop eating beef #BeforeTheFlood #RacingExtinction https:/Ã¢â‚¬Â¦</td>\n",
       "      <td>help, change, climate, rt, eating</td>\n",
       "      <td>793598296103190528</td>\n",
       "      <td>2019-01-17</td>\n",
       "      <td>2.384186e-07</td>\n",
       "      <td>RT @RacingXtinction: One of the easiest ways to help combat climate change is to stop eating beef #BeforeTheFlood #RacingExtinction</td>\n",
       "      <td>755</td>\n",
       "    </tr>\n",
       "    <tr>\n",
       "      <th>267</th>\n",
       "      <td>6</td>\n",
       "      <td>RT @mitchellvii: Americans are even less worried about Russia than climate change.</td>\n",
       "      <td>americans, even, less, worried, mitchellvii</td>\n",
       "      <td>793276073412792320</td>\n",
       "      <td>2019-11-21</td>\n",
       "      <td>0.000000e+00</td>\n",
       "      <td>RT @mitchellvii: Americans are even less worried about Russia than climate change.</td>\n",
       "      <td>267</td>\n",
       "    </tr>\n",
       "    <tr>\n",
       "      <th>699</th>\n",
       "      <td>7</td>\n",
       "      <td>#Wisconsin people, climate change is real Vote #democrat Stand against @PRyan and show him actions speak louder https://t.co/sic6JdCyTw</td>\n",
       "      <td>climate, change, rt, trump, hillary</td>\n",
       "      <td>793548650987212800</td>\n",
       "      <td>2020-08-26</td>\n",
       "      <td>4.172325e-07</td>\n",
       "      <td>#Wisconsin people, climate change is real Vote #democrat Stand against @PRyan and show him actions speak louder</td>\n",
       "      <td>699</td>\n",
       "    </tr>\n",
       "    <tr>\n",
       "      <th>629</th>\n",
       "      <td>8</td>\n",
       "      <td>@diagstudio IÃ¢â‚¬â„¢m creating a new think tank for climate change, would you join and post your tweet also at https://t.co/u1UbQXLmrF ?</td>\n",
       "      <td>also, join, tweet, think, tank</td>\n",
       "      <td>793514589640163329</td>\n",
       "      <td>2020-08-29</td>\n",
       "      <td>5.960464e-08</td>\n",
       "      <td>@diagstudio IÃ¢â‚¬â„¢m creating a new think tank for climate change, would you join and post your tweet also at  ?</td>\n",
       "      <td>629</td>\n",
       "    </tr>\n",
       "    <tr>\n",
       "      <th>684</th>\n",
       "      <td>9</td>\n",
       "      <td>RT @deltalreed_l: Polar vortex shifting due to climate change, extending winter, study finds\\nhttps://t.co/enqjjXpMsz Marco say climate chanÃ¢â‚¬Â¦</td>\n",
       "      <td>climate, change, polar, rt, winter</td>\n",
       "      <td>793536103454171136</td>\n",
       "      <td>2020-04-23</td>\n",
       "      <td>0.000000e+00</td>\n",
       "      <td>RT @deltalreed_l: Polar vortex shifting due to climate change, extending winter, study finds  Marco say climate chanÃ¢â‚¬Â¦</td>\n",
       "      <td>684</td>\n",
       "    </tr>\n",
       "  </tbody>\n",
       "</table>\n",
       "</div>"
      ],
      "text/plain": [
       "     label_kmedoids  \\\n",
       "358               0   \n",
       "597               1   \n",
       "583               2   \n",
       "882               3   \n",
       "705               4   \n",
       "755               5   \n",
       "267               6   \n",
       "699               7   \n",
       "629               8   \n",
       "684               9   \n",
       "\n",
       "                                                                                                                                                 message  \\\n",
       "358   RT @NatGeoChannel: Watch #BeforeTheFlood right here, as @LeoDiCaprio travels the world to tackle climate change https://t.co/LkDehj3tNn httÃ¢â‚¬Â¦   \n",
       "597                                                                                                             RT @94kristin: let's talk climate change   \n",
       "583                                   RT @sciam: China criticizes Trump plan to exit climate change pact https://t.co/BxZFX1Xgxc https://t.co/tB92yrH6Bk   \n",
       "882                      Ã¢â‚¬Â¢ Inhabitat: Watch Leonardo DiCaprio's riveting new climate change documentary 'Before TheÃ¢â‚¬Â¦ https://t.co/XuH1Hw8rMM   \n",
       "705                                                             RT @whomiscale: ahem, ahem, [coughing on smog] sorry. anyways, global warming isn't real   \n",
       "755   RT @RacingXtinction: One of the easiest ways to help combat climate change is to stop eating beef #BeforeTheFlood #RacingExtinction https:/Ã¢â‚¬Â¦   \n",
       "267                                                                   RT @mitchellvii: Americans are even less worried about Russia than climate change.   \n",
       "699              #Wisconsin people, climate change is real Vote #democrat Stand against @PRyan and show him actions speak louder https://t.co/sic6JdCyTw   \n",
       "629            @diagstudio IÃ¢â‚¬â„¢m creating a new think tank for climate change, would you join and post your tweet also at https://t.co/u1UbQXLmrF ?   \n",
       "684  RT @deltalreed_l: Polar vortex shifting due to climate change, extending winter, study finds\\nhttps://t.co/enqjjXpMsz Marco say climate chanÃ¢â‚¬Â¦   \n",
       "\n",
       "                                        topwords             tweetid  \\\n",
       "358          right, tackle, travels, world, httã  793358803320336384   \n",
       "597         climate, change, rt, global, warming  793497173983764481   \n",
       "583               china, trump, plan, exit, pact  793493218642067457   \n",
       "882   change, climate, documentary, rt, leonardo  793771700580155393   \n",
       "705         warming, global, rt, change, climate  793551559179112448   \n",
       "755            help, change, climate, rt, eating  793598296103190528   \n",
       "267  americans, even, less, worried, mitchellvii  793276073412792320   \n",
       "699          climate, change, rt, trump, hillary  793548650987212800   \n",
       "629               also, join, tweet, think, tank  793514589640163329   \n",
       "684           climate, change, polar, rt, winter  793536103454171136   \n",
       "\n",
       "    publishedAt  distance_kmedoids  \\\n",
       "358  2020-12-10       1.192093e-07   \n",
       "597  2020-03-27       0.000000e+00   \n",
       "583  2019-05-05       1.788139e-07   \n",
       "882  2020-10-09       1.788139e-07   \n",
       "705  2020-02-07       1.788139e-07   \n",
       "755  2019-01-17       2.384186e-07   \n",
       "267  2019-11-21       0.000000e+00   \n",
       "699  2020-08-26       4.172325e-07   \n",
       "629  2020-08-29       5.960464e-08   \n",
       "684  2020-04-23       0.000000e+00   \n",
       "\n",
       "                                                                                                                                    cleaned  \\\n",
       "358           RT @NatGeoChannel: Watch #BeforeTheFlood right here, as @LeoDiCaprio travels the world to tackle climate change  httÃ¢â‚¬Â¦     \n",
       "597                                                                                              RT @94kristin: let's talk climate change     \n",
       "583                                                                  RT @sciam: China criticizes Trump plan to exit climate change pact       \n",
       "882                              Ã¢â‚¬Â¢ Inhabitat: Watch Leonardo DiCaprio's riveting new climate change documentary 'Before TheÃ¢â‚¬Â¦      \n",
       "705                                              RT @whomiscale: ahem, ahem, [coughing on smog] sorry. anyways, global warming isn't real     \n",
       "755  RT @RacingXtinction: One of the easiest ways to help combat climate change is to stop eating beef #BeforeTheFlood #RacingExtinction      \n",
       "267                                                    RT @mitchellvii: Americans are even less worried about Russia than climate change.     \n",
       "699                      #Wisconsin people, climate change is real Vote #democrat Stand against @PRyan and show him actions speak louder      \n",
       "629                    @diagstudio IÃ¢â‚¬â„¢m creating a new think tank for climate change, would you join and post your tweet also at  ?     \n",
       "684           RT @deltalreed_l: Polar vortex shifting due to climate change, extending winter, study finds  Marco say climate chanÃ¢â‚¬Â¦     \n",
       "\n",
       "     Unnamed: 0  \n",
       "358         358  \n",
       "597         597  \n",
       "583         583  \n",
       "882         882  \n",
       "705         705  \n",
       "755         755  \n",
       "267         267  \n",
       "699         699  \n",
       "629         629  \n",
       "684         684  "
      ]
     },
     "execution_count": 44,
     "metadata": {},
     "output_type": "execute_result"
    }
   ],
   "source": [
    "medoids_indices = clustering.medoid_indices_\n",
    "data_medoids = data.iloc[medoids_indices.tolist()]\n",
    "data_medoids = data_medoids[['label_kmedoids', 'message', 'topwords', 'tweetid', 'publishedAt',  'distance_kmedoids', 'cleaned', 'Unnamed: 0']]\n",
    "embeddings_medoids = embeddings_reduced[medoids_indices]\n",
    "data_medoids"
   ]
  },
  {
   "cell_type": "markdown",
   "metadata": {
    "id": "BuMeVyFBp2LT"
   },
   "source": [
    "# Print the documents within a cluster"
   ]
  },
  {
   "cell_type": "code",
   "execution_count": 45,
   "metadata": {
    "colab": {
     "background_save": true
    },
    "id": "BCQfbAfVIMUd",
    "outputId": "c2e62252-f818-42ce-b7bb-c5637b080e19"
   },
   "outputs": [
    {
     "name": "stdout",
     "output_type": "stream",
     "text": [
      "Number of samples in the cluster: 23\n",
      "Average Distance from cluster center: 4.524769792624284e-06\n"
     ]
    },
    {
     "data": {
      "text/html": [
       "<div>\n",
       "<style scoped>\n",
       "    .dataframe tbody tr th:only-of-type {\n",
       "        vertical-align: middle;\n",
       "    }\n",
       "\n",
       "    .dataframe tbody tr th {\n",
       "        vertical-align: top;\n",
       "    }\n",
       "\n",
       "    .dataframe thead th {\n",
       "        text-align: right;\n",
       "    }\n",
       "</style>\n",
       "<table border=\"1\" class=\"dataframe\">\n",
       "  <thead>\n",
       "    <tr style=\"text-align: right;\">\n",
       "      <th></th>\n",
       "      <th>Unnamed: 0</th>\n",
       "      <th>message</th>\n",
       "      <th>tweetid</th>\n",
       "      <th>publishedAt</th>\n",
       "      <th>cleaned</th>\n",
       "      <th>label_kmedoids</th>\n",
       "      <th>distance_kmedoids</th>\n",
       "      <th>topwords</th>\n",
       "    </tr>\n",
       "  </thead>\n",
       "  <tbody>\n",
       "    <tr>\n",
       "      <th>755</th>\n",
       "      <td>755</td>\n",
       "      <td>RT @RacingXtinction: One of the easiest ways to help combat climate change is to stop eating beef #BeforeTheFlood #RacingExtinction https:/Ã¢â‚¬Â¦</td>\n",
       "      <td>793598296103190528</td>\n",
       "      <td>2019-01-17</td>\n",
       "      <td>RT @RacingXtinction: One of the easiest ways to help combat climate change is to stop eating beef #BeforeTheFlood #RacingExtinction</td>\n",
       "      <td>5</td>\n",
       "      <td>2.384186e-07</td>\n",
       "      <td>help, change, climate, rt, eating</td>\n",
       "    </tr>\n",
       "    <tr>\n",
       "      <th>16</th>\n",
       "      <td>16</td>\n",
       "      <td>RT @NatGeoChannel: One of the easiest ways to help combat climate change in your daily life is to stop eating beef. Here's why:Ã¢â‚¬Â¦</td>\n",
       "      <td>793131033482829824</td>\n",
       "      <td>2019-06-20</td>\n",
       "      <td>RT @NatGeoChannel: One of the easiest ways to help combat climate change in your daily life is to stop eating beef. Here's why:Ã¢â‚¬Â¦</td>\n",
       "      <td>5</td>\n",
       "      <td>6.556511e-07</td>\n",
       "      <td>help, change, climate, rt, eating</td>\n",
       "    </tr>\n",
       "    <tr>\n",
       "      <th>141</th>\n",
       "      <td>141</td>\n",
       "      <td>RT @NatGeoChannel: One of the easiest ways to help combat climate change in your daily life is to stop eating beef. Here's why:Ã¢â‚¬Â¦</td>\n",
       "      <td>793204092441137152</td>\n",
       "      <td>2019-11-10</td>\n",
       "      <td>RT @NatGeoChannel: One of the easiest ways to help combat climate change in your daily life is to stop eating beef. Here's why:Ã¢â‚¬Â¦</td>\n",
       "      <td>5</td>\n",
       "      <td>6.556511e-07</td>\n",
       "      <td>help, change, climate, rt, eating</td>\n",
       "    </tr>\n",
       "    <tr>\n",
       "      <th>214</th>\n",
       "      <td>214</td>\n",
       "      <td>RT @NatGeoChannel: One of the easiest ways to help combat climate change in your daily life is to stop eating beef. Here's why:Ã¢â‚¬Â¦</td>\n",
       "      <td>793241711942119424</td>\n",
       "      <td>2020-12-03</td>\n",
       "      <td>RT @NatGeoChannel: One of the easiest ways to help combat climate change in your daily life is to stop eating beef. Here's why:Ã¢â‚¬Â¦</td>\n",
       "      <td>5</td>\n",
       "      <td>6.556511e-07</td>\n",
       "      <td>help, change, climate, rt, eating</td>\n",
       "    </tr>\n",
       "    <tr>\n",
       "      <th>137</th>\n",
       "      <td>137</td>\n",
       "      <td>RT @NatGeoChannel: One of the easiest ways to help combat climate change in your daily life is to stop eating beef. Here's why:Ã¢â‚¬Â¦</td>\n",
       "      <td>793200394591674368</td>\n",
       "      <td>2020-03-28</td>\n",
       "      <td>RT @NatGeoChannel: One of the easiest ways to help combat climate change in your daily life is to stop eating beef. Here's why:Ã¢â‚¬Â¦</td>\n",
       "      <td>5</td>\n",
       "      <td>8.344650e-07</td>\n",
       "      <td>help, change, climate, rt, eating</td>\n",
       "    </tr>\n",
       "    <tr>\n",
       "      <th>742</th>\n",
       "      <td>742</td>\n",
       "      <td>RT @cybersygh: Given that animal agriculture is the leading cause of climate change, adopting a vegan diet is the most practical course, ifÃ¢â‚¬Â¦</td>\n",
       "      <td>793589195818299397</td>\n",
       "      <td>2020-09-20</td>\n",
       "      <td>RT @cybersygh: Given that animal agriculture is the leading cause of climate change, adopting a vegan diet is the most practical course, ifÃ¢â‚¬Â¦</td>\n",
       "      <td>5</td>\n",
       "      <td>9.536743e-07</td>\n",
       "      <td>help, change, climate, rt, eating</td>\n",
       "    </tr>\n",
       "    <tr>\n",
       "      <th>180</th>\n",
       "      <td>180</td>\n",
       "      <td>RT @NatGeoChannel: One of the easiest ways to help combat climate change in your daily life is to stop eating beef. Here's why:Ã¢â‚¬Â¦</td>\n",
       "      <td>793222898525831168</td>\n",
       "      <td>2019-04-11</td>\n",
       "      <td>RT @NatGeoChannel: One of the easiest ways to help combat climate change in your daily life is to stop eating beef. Here's why:Ã¢â‚¬Â¦</td>\n",
       "      <td>5</td>\n",
       "      <td>1.132488e-06</td>\n",
       "      <td>help, change, climate, rt, eating</td>\n",
       "    </tr>\n",
       "    <tr>\n",
       "      <th>673</th>\n",
       "      <td>673</td>\n",
       "      <td>RT @NatGeoChannel: One of the easiest ways to help combat climate change in your daily life is to stop eating beef. Here's why:Ã¢â‚¬Â¦</td>\n",
       "      <td>793529131287744512</td>\n",
       "      <td>2019-07-06</td>\n",
       "      <td>RT @NatGeoChannel: One of the easiest ways to help combat climate change in your daily life is to stop eating beef. Here's why:Ã¢â‚¬Â¦</td>\n",
       "      <td>5</td>\n",
       "      <td>1.192093e-06</td>\n",
       "      <td>help, change, climate, rt, eating</td>\n",
       "    </tr>\n",
       "    <tr>\n",
       "      <th>667</th>\n",
       "      <td>667</td>\n",
       "      <td>RT @GlblCtzn: Want to help help fight climate change? Simple Ã¢â‚¬â€Ã‚ go vegan. #WorldVeganDay. https://t.co/YiUmDXYizZ</td>\n",
       "      <td>793523419753046016</td>\n",
       "      <td>2019-05-07</td>\n",
       "      <td>RT @GlblCtzn: Want to help help fight climate change? Simple Ã¢â‚¬â€Ã‚ go vegan. #WorldVeganDay.</td>\n",
       "      <td>5</td>\n",
       "      <td>1.311302e-06</td>\n",
       "      <td>help, change, climate, rt, eating</td>\n",
       "    </tr>\n",
       "    <tr>\n",
       "      <th>342</th>\n",
       "      <td>342</td>\n",
       "      <td>@Baileytruett_yo @Tomleewalker why do people defend the leading cause of climate change, deforestation, pollution etc get over it it's meat</td>\n",
       "      <td>793347415860445185</td>\n",
       "      <td>2020-09-07</td>\n",
       "      <td>@Baileytruett_yo @Tomleewalker why do people defend the leading cause of climate change, deforestation, pollution etc get over it it's meat</td>\n",
       "      <td>5</td>\n",
       "      <td>1.370907e-06</td>\n",
       "      <td>help, change, climate, rt, eating</td>\n",
       "    </tr>\n",
       "    <tr>\n",
       "      <th>892</th>\n",
       "      <td>892</td>\n",
       "      <td>RT @RacingXtinction: One of the easiest ways to help combat climate change is to stop eating beef #BeforeTheFlood #RacingExtinction https:/Ã¢â‚¬Â¦</td>\n",
       "      <td>793784906774118401</td>\n",
       "      <td>2020-10-24</td>\n",
       "      <td>RT @RacingXtinction: One of the easiest ways to help combat climate change is to stop eating beef #BeforeTheFlood #RacingExtinction</td>\n",
       "      <td>5</td>\n",
       "      <td>1.549721e-06</td>\n",
       "      <td>help, change, climate, rt, eating</td>\n",
       "    </tr>\n",
       "    <tr>\n",
       "      <th>733</th>\n",
       "      <td>733</td>\n",
       "      <td>RT @GlblCtzn: Want to help help fight climate change? Simple Ã¢â‚¬â€Ã‚ go vegan. #WorldVeganDay. https://t.co/YiUmDXYizZ</td>\n",
       "      <td>793578980775452673</td>\n",
       "      <td>2020-08-22</td>\n",
       "      <td>RT @GlblCtzn: Want to help help fight climate change? Simple Ã¢â‚¬â€Ã‚ go vegan. #WorldVeganDay.</td>\n",
       "      <td>5</td>\n",
       "      <td>2.324581e-06</td>\n",
       "      <td>help, change, climate, rt, eating</td>\n",
       "    </tr>\n",
       "    <tr>\n",
       "      <th>354</th>\n",
       "      <td>354</td>\n",
       "      <td>RT @NatGeoChannel: One of the easiest ways to help combat climate change in your daily life is to stop eating beef. Here's why:Ã¢â‚¬Â¦</td>\n",
       "      <td>793355810629947392</td>\n",
       "      <td>2019-04-27</td>\n",
       "      <td>RT @NatGeoChannel: One of the easiest ways to help combat climate change in your daily life is to stop eating beef. Here's why:Ã¢â‚¬Â¦</td>\n",
       "      <td>5</td>\n",
       "      <td>3.337860e-06</td>\n",
       "      <td>help, change, climate, rt, eating</td>\n",
       "    </tr>\n",
       "    <tr>\n",
       "      <th>656</th>\n",
       "      <td>656</td>\n",
       "      <td>RT @GlblCtzn: Want to help help fight climate change? Simple Ã¢â‚¬â€Ã‚ go vegan. #WorldVeganDay. https://t.co/YiUmDXYizZ</td>\n",
       "      <td>793520954815021056</td>\n",
       "      <td>2019-02-11</td>\n",
       "      <td>RT @GlblCtzn: Want to help help fight climate change? Simple Ã¢â‚¬â€Ã‚ go vegan. #WorldVeganDay.</td>\n",
       "      <td>5</td>\n",
       "      <td>3.874302e-06</td>\n",
       "      <td>help, change, climate, rt, eating</td>\n",
       "    </tr>\n",
       "    <tr>\n",
       "      <th>57</th>\n",
       "      <td>57</td>\n",
       "      <td>@MikeBloomberg @LeoDiCaprio why aren't you vegan? meat industry contributes GREATLY to climate change and deforestation!</td>\n",
       "      <td>793152052037836800</td>\n",
       "      <td>2020-01-12</td>\n",
       "      <td>@MikeBloomberg @LeoDiCaprio why aren't you vegan? meat industry contributes GREATLY to climate change and deforestation!</td>\n",
       "      <td>5</td>\n",
       "      <td>4.470348e-06</td>\n",
       "      <td>help, change, climate, rt, eating</td>\n",
       "    </tr>\n",
       "    <tr>\n",
       "      <th>712</th>\n",
       "      <td>712</td>\n",
       "      <td>RT @extinctsymbol: Eating meat is a leading cause of habitat destruction, species extinction and climate change: https://t.co/i4EkZI4Wh6</td>\n",
       "      <td>793559832531959808</td>\n",
       "      <td>2019-09-12</td>\n",
       "      <td>RT @extinctsymbol: Eating meat is a leading cause of habitat destruction, species extinction and climate change:</td>\n",
       "      <td>5</td>\n",
       "      <td>5.006790e-06</td>\n",
       "      <td>help, change, climate, rt, eating</td>\n",
       "    </tr>\n",
       "    <tr>\n",
       "      <th>817</th>\n",
       "      <td>817</td>\n",
       "      <td>RT @Food_Tank: Plant-based protein increases food security &amp;amp; helps mitigate climate change: https://t.co/avhaUucW6z @GoodFoodInst https://tÃ¢â‚¬Â¦</td>\n",
       "      <td>793671225071562752</td>\n",
       "      <td>2019-10-30</td>\n",
       "      <td>RT @Food_Tank: Plant-based protein increases food security &amp; helps mitigate climate change:  @GoodFoodInst</td>\n",
       "      <td>5</td>\n",
       "      <td>7.450581e-06</td>\n",
       "      <td>help, change, climate, rt, eating</td>\n",
       "    </tr>\n",
       "    <tr>\n",
       "      <th>496</th>\n",
       "      <td>496</td>\n",
       "      <td>RT @Labmate_online: The effect of climate change on the food chain is huge Ã°Å¸ï†Â¼ https://t.co/S0O81gdj3w #animals #biodiversity #species https:Ã¢â‚¬Â¦</td>\n",
       "      <td>793454658857603072</td>\n",
       "      <td>2020-07-31</td>\n",
       "      <td>RT @Labmate_online: The effect of climate change on the food chain is huge Ã°Å¸ï†Â¼  #animals #biodiversity #species</td>\n",
       "      <td>5</td>\n",
       "      <td>7.748604e-06</td>\n",
       "      <td>help, change, climate, rt, eating</td>\n",
       "    </tr>\n",
       "    <tr>\n",
       "      <th>633</th>\n",
       "      <td>633</td>\n",
       "      <td>RT @peta: Meat production is a leading cause of climate change, water waste, deforestation, &amp;amp; extinction. #WorldVeganDayÃ¢â‚¬Â¦</td>\n",
       "      <td>793515579445506048</td>\n",
       "      <td>2019-11-22</td>\n",
       "      <td>RT @peta: Meat production is a leading cause of climate change, water waste, deforestation, &amp; extinction. #WorldVeganDayÃ¢â‚¬Â¦</td>\n",
       "      <td>5</td>\n",
       "      <td>8.165836e-06</td>\n",
       "      <td>help, change, climate, rt, eating</td>\n",
       "    </tr>\n",
       "    <tr>\n",
       "      <th>666</th>\n",
       "      <td>666</td>\n",
       "      <td>RT @peta: Meat production is a leading cause of climate change, water waste, deforestation, &amp;amp; extinction. #WorldVeganDayÃ¢â‚¬Â¦</td>\n",
       "      <td>793523250592645120</td>\n",
       "      <td>2020-07-07</td>\n",
       "      <td>RT @peta: Meat production is a leading cause of climate change, water waste, deforestation, &amp; extinction. #WorldVeganDayÃ¢â‚¬Â¦</td>\n",
       "      <td>5</td>\n",
       "      <td>9.596348e-06</td>\n",
       "      <td>help, change, climate, rt, eating</td>\n",
       "    </tr>\n",
       "    <tr>\n",
       "      <th>648</th>\n",
       "      <td>648</td>\n",
       "      <td>RT @peta: Meat production is a leading cause of climate change, water waste, deforestation, &amp;amp; extinction. #WorldVeganDayÃ¢â‚¬Â¦</td>\n",
       "      <td>793518342090948608</td>\n",
       "      <td>2019-06-23</td>\n",
       "      <td>RT @peta: Meat production is a leading cause of climate change, water waste, deforestation, &amp; extinction. #WorldVeganDayÃ¢â‚¬Â¦</td>\n",
       "      <td>5</td>\n",
       "      <td>1.060963e-05</td>\n",
       "      <td>help, change, climate, rt, eating</td>\n",
       "    </tr>\n",
       "    <tr>\n",
       "      <th>836</th>\n",
       "      <td>836</td>\n",
       "      <td>RT @tarotgod: when will ppl understand that global warming, deforestation, &amp;amp; consumption of animal products is a bigger threat to the earthÃ¢â‚¬Â¦</td>\n",
       "      <td>793694967810039808</td>\n",
       "      <td>2019-08-16</td>\n",
       "      <td>RT @tarotgod: when will ppl understand that global warming, deforestation, &amp; consumption of animal products is a bigger threat to the earthÃ¢â‚¬Â¦</td>\n",
       "      <td>5</td>\n",
       "      <td>1.388788e-05</td>\n",
       "      <td>help, change, climate, rt, eating</td>\n",
       "    </tr>\n",
       "    <tr>\n",
       "      <th>805</th>\n",
       "      <td>805</td>\n",
       "      <td>RT @tarotgod: when will ppl understand that global warming, deforestation, &amp;amp; consumption of animal products is a bigger threat to the earthÃ¢â‚¬Â¦</td>\n",
       "      <td>793661845953392641</td>\n",
       "      <td>2019-08-23</td>\n",
       "      <td>RT @tarotgod: when will ppl understand that global warming, deforestation, &amp; consumption of animal products is a bigger threat to the earthÃ¢â‚¬Â¦</td>\n",
       "      <td>5</td>\n",
       "      <td>1.704693e-05</td>\n",
       "      <td>help, change, climate, rt, eating</td>\n",
       "    </tr>\n",
       "  </tbody>\n",
       "</table>\n",
       "</div>"
      ],
      "text/plain": [
       "     Unnamed: 0  \\\n",
       "755         755   \n",
       "16           16   \n",
       "141         141   \n",
       "214         214   \n",
       "137         137   \n",
       "742         742   \n",
       "180         180   \n",
       "673         673   \n",
       "667         667   \n",
       "342         342   \n",
       "892         892   \n",
       "733         733   \n",
       "354         354   \n",
       "656         656   \n",
       "57           57   \n",
       "712         712   \n",
       "817         817   \n",
       "496         496   \n",
       "633         633   \n",
       "666         666   \n",
       "648         648   \n",
       "836         836   \n",
       "805         805   \n",
       "\n",
       "                                                                                                                                                        message  \\\n",
       "755          RT @RacingXtinction: One of the easiest ways to help combat climate change is to stop eating beef #BeforeTheFlood #RacingExtinction https:/Ã¢â‚¬Â¦   \n",
       "16                       RT @NatGeoChannel: One of the easiest ways to help combat climate change in your daily life is to stop eating beef. Here's why:Ã¢â‚¬Â¦   \n",
       "141                      RT @NatGeoChannel: One of the easiest ways to help combat climate change in your daily life is to stop eating beef. Here's why:Ã¢â‚¬Â¦   \n",
       "214                      RT @NatGeoChannel: One of the easiest ways to help combat climate change in your daily life is to stop eating beef. Here's why:Ã¢â‚¬Â¦   \n",
       "137                      RT @NatGeoChannel: One of the easiest ways to help combat climate change in your daily life is to stop eating beef. Here's why:Ã¢â‚¬Â¦   \n",
       "742          RT @cybersygh: Given that animal agriculture is the leading cause of climate change, adopting a vegan diet is the most practical course, ifÃ¢â‚¬Â¦   \n",
       "180                      RT @NatGeoChannel: One of the easiest ways to help combat climate change in your daily life is to stop eating beef. Here's why:Ã¢â‚¬Â¦   \n",
       "673                      RT @NatGeoChannel: One of the easiest ways to help combat climate change in your daily life is to stop eating beef. Here's why:Ã¢â‚¬Â¦   \n",
       "667                                   RT @GlblCtzn: Want to help help fight climate change? Simple Ã¢â‚¬â€Ã‚ go vegan. #WorldVeganDay. https://t.co/YiUmDXYizZ   \n",
       "342                 @Baileytruett_yo @Tomleewalker why do people defend the leading cause of climate change, deforestation, pollution etc get over it it's meat   \n",
       "892          RT @RacingXtinction: One of the easiest ways to help combat climate change is to stop eating beef #BeforeTheFlood #RacingExtinction https:/Ã¢â‚¬Â¦   \n",
       "733                                   RT @GlblCtzn: Want to help help fight climate change? Simple Ã¢â‚¬â€Ã‚ go vegan. #WorldVeganDay. https://t.co/YiUmDXYizZ   \n",
       "354                      RT @NatGeoChannel: One of the easiest ways to help combat climate change in your daily life is to stop eating beef. Here's why:Ã¢â‚¬Â¦   \n",
       "656                                   RT @GlblCtzn: Want to help help fight climate change? Simple Ã¢â‚¬â€Ã‚ go vegan. #WorldVeganDay. https://t.co/YiUmDXYizZ   \n",
       "57                                     @MikeBloomberg @LeoDiCaprio why aren't you vegan? meat industry contributes GREATLY to climate change and deforestation!   \n",
       "712                    RT @extinctsymbol: Eating meat is a leading cause of habitat destruction, species extinction and climate change: https://t.co/i4EkZI4Wh6   \n",
       "817      RT @Food_Tank: Plant-based protein increases food security &amp; helps mitigate climate change: https://t.co/avhaUucW6z @GoodFoodInst https://tÃ¢â‚¬Â¦   \n",
       "496  RT @Labmate_online: The effect of climate change on the food chain is huge Ã°Å¸ï†Â¼ https://t.co/S0O81gdj3w #animals #biodiversity #species https:Ã¢â‚¬Â¦   \n",
       "633                         RT @peta: Meat production is a leading cause of climate change, water waste, deforestation, &amp; extinction. #WorldVeganDayÃ¢â‚¬Â¦   \n",
       "666                         RT @peta: Meat production is a leading cause of climate change, water waste, deforestation, &amp; extinction. #WorldVeganDayÃ¢â‚¬Â¦   \n",
       "648                         RT @peta: Meat production is a leading cause of climate change, water waste, deforestation, &amp; extinction. #WorldVeganDayÃ¢â‚¬Â¦   \n",
       "836      RT @tarotgod: when will ppl understand that global warming, deforestation, &amp; consumption of animal products is a bigger threat to the earthÃ¢â‚¬Â¦   \n",
       "805      RT @tarotgod: when will ppl understand that global warming, deforestation, &amp; consumption of animal products is a bigger threat to the earthÃ¢â‚¬Â¦   \n",
       "\n",
       "                tweetid publishedAt  \\\n",
       "755  793598296103190528  2019-01-17   \n",
       "16   793131033482829824  2019-06-20   \n",
       "141  793204092441137152  2019-11-10   \n",
       "214  793241711942119424  2020-12-03   \n",
       "137  793200394591674368  2020-03-28   \n",
       "742  793589195818299397  2020-09-20   \n",
       "180  793222898525831168  2019-04-11   \n",
       "673  793529131287744512  2019-07-06   \n",
       "667  793523419753046016  2019-05-07   \n",
       "342  793347415860445185  2020-09-07   \n",
       "892  793784906774118401  2020-10-24   \n",
       "733  793578980775452673  2020-08-22   \n",
       "354  793355810629947392  2019-04-27   \n",
       "656  793520954815021056  2019-02-11   \n",
       "57   793152052037836800  2020-01-12   \n",
       "712  793559832531959808  2019-09-12   \n",
       "817  793671225071562752  2019-10-30   \n",
       "496  793454658857603072  2020-07-31   \n",
       "633  793515579445506048  2019-11-22   \n",
       "666  793523250592645120  2020-07-07   \n",
       "648  793518342090948608  2019-06-23   \n",
       "836  793694967810039808  2019-08-16   \n",
       "805  793661845953392641  2019-08-23   \n",
       "\n",
       "                                                                                                                                                  cleaned  \\\n",
       "755                RT @RacingXtinction: One of the easiest ways to help combat climate change is to stop eating beef #BeforeTheFlood #RacingExtinction      \n",
       "16               RT @NatGeoChannel: One of the easiest ways to help combat climate change in your daily life is to stop eating beef. Here's why:Ã¢â‚¬Â¦     \n",
       "141              RT @NatGeoChannel: One of the easiest ways to help combat climate change in your daily life is to stop eating beef. Here's why:Ã¢â‚¬Â¦     \n",
       "214              RT @NatGeoChannel: One of the easiest ways to help combat climate change in your daily life is to stop eating beef. Here's why:Ã¢â‚¬Â¦     \n",
       "137              RT @NatGeoChannel: One of the easiest ways to help combat climate change in your daily life is to stop eating beef. Here's why:Ã¢â‚¬Â¦     \n",
       "742  RT @cybersygh: Given that animal agriculture is the leading cause of climate change, adopting a vegan diet is the most practical course, ifÃ¢â‚¬Â¦     \n",
       "180              RT @NatGeoChannel: One of the easiest ways to help combat climate change in your daily life is to stop eating beef. Here's why:Ã¢â‚¬Â¦     \n",
       "673              RT @NatGeoChannel: One of the easiest ways to help combat climate change in your daily life is to stop eating beef. Here's why:Ã¢â‚¬Â¦     \n",
       "667                                                  RT @GlblCtzn: Want to help help fight climate change? Simple Ã¢â‚¬â€Ã‚ go vegan. #WorldVeganDay.      \n",
       "342         @Baileytruett_yo @Tomleewalker why do people defend the leading cause of climate change, deforestation, pollution etc get over it it's meat     \n",
       "892                RT @RacingXtinction: One of the easiest ways to help combat climate change is to stop eating beef #BeforeTheFlood #RacingExtinction      \n",
       "733                                                  RT @GlblCtzn: Want to help help fight climate change? Simple Ã¢â‚¬â€Ã‚ go vegan. #WorldVeganDay.      \n",
       "354              RT @NatGeoChannel: One of the easiest ways to help combat climate change in your daily life is to stop eating beef. Here's why:Ã¢â‚¬Â¦     \n",
       "656                                                  RT @GlblCtzn: Want to help help fight climate change? Simple Ã¢â‚¬â€Ã‚ go vegan. #WorldVeganDay.      \n",
       "57                             @MikeBloomberg @LeoDiCaprio why aren't you vegan? meat industry contributes GREATLY to climate change and deforestation!     \n",
       "712                                   RT @extinctsymbol: Eating meat is a leading cause of habitat destruction, species extinction and climate change:      \n",
       "817                                         RT @Food_Tank: Plant-based protein increases food security & helps mitigate climate change:  @GoodFoodInst      \n",
       "496                              RT @Labmate_online: The effect of climate change on the food chain is huge Ã°Å¸ï†Â¼  #animals #biodiversity #species      \n",
       "633                     RT @peta: Meat production is a leading cause of climate change, water waste, deforestation, & extinction. #WorldVeganDayÃ¢â‚¬Â¦     \n",
       "666                     RT @peta: Meat production is a leading cause of climate change, water waste, deforestation, & extinction. #WorldVeganDayÃ¢â‚¬Â¦     \n",
       "648                     RT @peta: Meat production is a leading cause of climate change, water waste, deforestation, & extinction. #WorldVeganDayÃ¢â‚¬Â¦     \n",
       "836  RT @tarotgod: when will ppl understand that global warming, deforestation, & consumption of animal products is a bigger threat to the earthÃ¢â‚¬Â¦     \n",
       "805  RT @tarotgod: when will ppl understand that global warming, deforestation, & consumption of animal products is a bigger threat to the earthÃ¢â‚¬Â¦     \n",
       "\n",
       "    label_kmedoids  distance_kmedoids                           topwords  \n",
       "755              5       2.384186e-07  help, change, climate, rt, eating  \n",
       "16               5       6.556511e-07  help, change, climate, rt, eating  \n",
       "141              5       6.556511e-07  help, change, climate, rt, eating  \n",
       "214              5       6.556511e-07  help, change, climate, rt, eating  \n",
       "137              5       8.344650e-07  help, change, climate, rt, eating  \n",
       "742              5       9.536743e-07  help, change, climate, rt, eating  \n",
       "180              5       1.132488e-06  help, change, climate, rt, eating  \n",
       "673              5       1.192093e-06  help, change, climate, rt, eating  \n",
       "667              5       1.311302e-06  help, change, climate, rt, eating  \n",
       "342              5       1.370907e-06  help, change, climate, rt, eating  \n",
       "892              5       1.549721e-06  help, change, climate, rt, eating  \n",
       "733              5       2.324581e-06  help, change, climate, rt, eating  \n",
       "354              5       3.337860e-06  help, change, climate, rt, eating  \n",
       "656              5       3.874302e-06  help, change, climate, rt, eating  \n",
       "57               5       4.470348e-06  help, change, climate, rt, eating  \n",
       "712              5       5.006790e-06  help, change, climate, rt, eating  \n",
       "817              5       7.450581e-06  help, change, climate, rt, eating  \n",
       "496              5       7.748604e-06  help, change, climate, rt, eating  \n",
       "633              5       8.165836e-06  help, change, climate, rt, eating  \n",
       "666              5       9.596348e-06  help, change, climate, rt, eating  \n",
       "648              5       1.060963e-05  help, change, climate, rt, eating  \n",
       "836              5       1.388788e-05  help, change, climate, rt, eating  \n",
       "805              5       1.704693e-05  help, change, climate, rt, eating  "
      ]
     },
     "execution_count": 45,
     "metadata": {},
     "output_type": "execute_result"
    }
   ],
   "source": [
    "#  Number of Cluster to print\n",
    "cluster_number =   5#@param {type:\"number\"}\n",
    "#@markdown Number of samples to print\n",
    "number_of_samples_to_print = 1000#@param {type:\"number\"}\n",
    "\n",
    "data[cluster_method] = data[cluster_method].astype('category')\n",
    "cluster = data[data[cluster_method]==cluster_number]\n",
    "if cluster['cleaned'].count()<=number_of_samples_to_print:\n",
    "  number_of_samples_to_print = cluster['cleaned'].count()\n",
    "\n",
    "cluster = cluster.sort_values(by='distance_kmedoids').head(number_of_samples_to_print)\n",
    "\n",
    "print(\"Number of samples in the cluster:\", cluster[\"cleaned\"].count())\n",
    "print(\"Average Distance from cluster center:\", np.mean(cluster['distance_kmedoids']))\n",
    "cluster[:]\n"
   ]
  },
  {
   "cell_type": "markdown",
   "metadata": {
    "id": "IIUOY-rO6FRW",
    "tags": []
   },
   "source": [
    "# Manually label Clusters\n",
    "\n",
    "**TODO**"
   ]
  },
  {
   "cell_type": "code",
   "execution_count": 46,
   "metadata": {
    "colab": {
     "background_save": true
    },
    "id": "RsE5CQ67EBA_",
    "tags": []
   },
   "outputs": [],
   "source": [
    "data['semi'] = ''"
   ]
  },
  {
   "cell_type": "markdown",
   "metadata": {
    "id": "mGLSTNto6HkC"
   },
   "source": [
    "# Visualize Clusters over time\n",
    "\n",
    "We are interested in the temporal development of interest in certain topics.\n",
    "\n",
    "Therefore, we look at how many tweets have been posted in each of the clusters during a specified time period.\n",
    "\n",
    "We plot the sum of the posted tweets in each cluster over time."
   ]
  },
  {
   "cell_type": "markdown",
   "metadata": {
    "id": "A-lCu_Ov-btH"
   },
   "source": [
    "# Stacked Barplot of Clusters over time\n"
   ]
  },
  {
   "cell_type": "code",
   "execution_count": 50,
   "metadata": {
    "colab": {
     "background_save": true
    },
    "id": "FHswoeBx-tcC",
    "outputId": "362f810c-1a56-46e9-c331-8301d6d66e8e"
   },
   "outputs": [
    {
     "data": {
      "image/png": "[encoded data removed]",
      "text/plain": [
       "<Figure size 640x480 with 1 Axes>"
      ]
     },
     "metadata": {},
     "output_type": "display_data"
    },
    {
     "data": {
      "text/plain": [
       "<Figure size 1000x1000 with 0 Axes>"
      ]
     },
     "metadata": {},
     "output_type": "display_data"
    }
   ],
   "source": [
    "from sklearn import preprocessing\n",
    "\n",
    "#@markdown Set start and end date\n",
    "start_date_input = '2019-01-01' #@param {type:\"date\"}\n",
    "end_date_input = '2021-01-01' #@param {type:\"date\"}\n",
    "\n",
    "#@markdown If true, all samples combined in one bucket will always sum to one.\n",
    "fill_height = True#@param {type:\"boolean\"}\n",
    "#@markdown Specify the interval of the buckets 'M' = Month, 'D' = Day, 'W' = Week and so on\n",
    "interval ='M'#@param {type:\"string\"}\n",
    "\n",
    "#@markdown Specify which labels you want to take: manual (takes manual if available, and groups all others into one group), semi (takes only manual and omits unlabeled ones) Automatic or both (takes manual if available or automatic if not)\n",
    "labels_viz = 'topwords' #@param [\"manual\", \"semi\", \"automatic\", \"both\",\"topwords\"]\n",
    "\n",
    "\n",
    "data_barplot = data\n",
    "\n",
    "data_barplot[\"publishedAt\"] = pd.to_datetime(data_barplot['publishedAt'])\n",
    "\n",
    "#set time range\n",
    "data_barplot = data_barplot[(data_barplot['publishedAt'] >= start_date_input) & (data_barplot['publishedAt'] <= end_date_input)]\n",
    "\n",
    "\n",
    "if labels_viz == 'manual':\n",
    "  data_barplot['labels_barplot'] = data_barplot['semi']\n",
    "\n",
    "elif labels_viz == 'topwords':\n",
    "  data_barplot['labels_barplot'] = data_barplot['topwords']\n",
    "\n",
    "elif labels_viz == 'semi':\n",
    "  data_barplot = data_barplot[data_barplot['semi'] != dummy_label]\n",
    "  data_barplot['labels_barplot'] = data_barplot['semi']\n",
    "  \n",
    "\n",
    "\n",
    "elif labels_viz == 'automatic':\n",
    "  data_barplot['labels_barplot'] = data_barplot[cluster_method]\n",
    "\n",
    "elif labels_viz == 'both':\n",
    "  #create new column, fill with values from manual labels if there, otherwise take vlaues from automatic\n",
    "  data_barplot['labels_barplot'] = data_barplot['semi']\n",
    "  #data_barplot.loc[data_barplot['labels_barplot'] == dummy_label , 'labels_barplot'] = data_barplot['labels_kmedoids']\n",
    "  data_barplot['labels_barplot'] = np.where(data_barplot['labels_barplot'] == dummy_label, data_barplot[cluster_method], data_barplot['labels_barplot'])\n",
    "  \n",
    "y = pd.get_dummies(data_barplot.labels_barplot)\n",
    "#data_barplot = data\n",
    "\n",
    "\n",
    "#y = pd.get_dummies(data_barplot.label_kmedoids,prefix = 'label')\n",
    "\n",
    "\n",
    "\n",
    "#y.head(10)\n",
    "data_barplot = data_barplot.join(y)\n",
    "\n",
    "\n",
    "data_barplot = data_barplot.drop([text_column], axis=1)\n",
    "\n",
    "data_barplot = data_barplot.groupby(pd.Grouper(key = 'publishedAt', freq = interval)).sum()+1\n",
    "data_barplot.columns\n",
    "\n",
    "\n",
    "\n",
    "if fill_height:\n",
    "  x = data_barplot.values #returns a numpy array\n",
    "  \n",
    "  min_max_scaler = preprocessing.Normalizer(norm = 'l1')\n",
    "  x_scaled = min_max_scaler.fit_transform(x)\n",
    "\n",
    "  data_barplot = pd.DataFrame(x_scaled, index=data_barplot.index, columns =  data_barplot.columns) \n",
    "  \n",
    "  \n",
    "  #data_barplot = pd.DataFrame(x_scaled)\n",
    "\n",
    "ax = data_barplot.plot.area()\n",
    "plt.figure(figsize=(10, 10))\n",
    "handles, labels = ax.get_legend_handles_labels()\n",
    "# sort both labels and handles by labels\n",
    "ax.legend(handles[::-1], labels[::-1], loc='right', bbox_to_anchor=(2.1, 0.5))\n",
    "plt.show()"
   ]
  },
  {
   "cell_type": "code",
   "execution_count": null,
   "metadata": {},
   "outputs": [],
   "source": []
  }
 ],
 "metadata": {
  "colab": {
   "name": "Scenario_1.ipynb",
   "provenance": []
  },
  "kernelspec": {
   "display_name": "Python 3",
   "language": "python",
   "name": "python3"
  },
  "language_info": {
   "codemirror_mode": {
    "name": "ipython",
    "version": 3
   },
   "file_extension": ".py",
   "mimetype": "text/x-python",
   "name": "python",
   "nbconvert_exporter": "python",
   "pygments_lexer": "ipython3",
   "version": "3.9.6"
  },
  "widgets": {
   "application/vnd.jupyter.widget-state+json": {
    "04677e5830754566a2337a7e50cb14aa": {
     "model_module": "@jupyter-widgets/base",
     "model_name": "LayoutModel",
     "state": {
      "_model_module": "@jupyter-widgets/base",
      "_model_module_version": "1.2.0",
      "_model_name": "LayoutModel",
      "_view_count": null,
      "_view_module": "@jupyter-widgets/base",
      "_view_module_version": "1.2.0",
      "_view_name": "LayoutView",
      "align_content": null,
      "align_items": null,
      "align_self": null,
      "border": null,
      "bottom": null,
      "display": null,
      "flex": null,
      "flex_flow": null,
      "grid_area": null,
      "grid_auto_columns": null,
      "grid_auto_flow": null,
      "grid_auto_rows": null,
      "grid_column": null,
      "grid_gap": null,
      "grid_row": null,
      "grid_template_areas": null,
      "grid_template_columns": null,
      "grid_template_rows": null,
      "height": null,
      "justify_content": null,
      "justify_items": null,
      "left": null,
      "margin": null,
      "max_height": null,
      "max_width": null,
      "min_height": null,
      "min_width": null,
      "object_fit": null,
      "object_position": null,
      "order": null,
      "overflow": null,
      "overflow_x": null,
      "overflow_y": null,
      "padding": null,
      "right": null,
      "top": null,
      "visibility": null,
      "width": null
     }
    },
    "0d23def4223948c6ad8afd49b06f1e69": {
     "model_module": "@jupyter-widgets/controls",
     "model_name": "ProgressStyleModel",
     "state": {
      "_model_module": "@jupyter-widgets/controls",
      "_model_module_version": "1.5.0",
      "_model_name": "ProgressStyleModel",
      "_view_count": null,
      "_view_module": "@jupyter-widgets/base",
      "_view_module_version": "1.2.0",
      "_view_name": "StyleView",
      "bar_color": null,
      "description_width": "initial"
     }
    },
    "684be7aeefb649e7a5700da9d69c0d5f": {
     "model_module": "@jupyter-widgets/controls",
     "model_name": "HTMLModel",
     "state": {
      "_dom_classes": [],
      "_model_module": "@jupyter-widgets/controls",
      "_model_module_version": "1.5.0",
      "_model_name": "HTMLModel",
      "_view_count": null,
      "_view_module": "@jupyter-widgets/controls",
      "_view_module_version": "1.5.0",
      "_view_name": "HTMLView",
      "description": "",
      "description_tooltip": null,
      "layout": "IPY_MODEL_04677e5830754566a2337a7e50cb14aa",
      "placeholder": "​",
      "style": "IPY_MODEL_a32043d4a8f94ed186c5c69bb042a8d6",
      "value": " 5/60 [02:05&lt;22:58, 25.06s/it]"
     }
    },
    "a32043d4a8f94ed186c5c69bb042a8d6": {
     "model_module": "@jupyter-widgets/controls",
     "model_name": "DescriptionStyleModel",
     "state": {
      "_model_module": "@jupyter-widgets/controls",
      "_model_module_version": "1.5.0",
      "_model_name": "DescriptionStyleModel",
      "_view_count": null,
      "_view_module": "@jupyter-widgets/base",
      "_view_module_version": "1.2.0",
      "_view_name": "StyleView",
      "description_width": ""
     }
    },
    "d6ed8e611e5041768981426163dc8f70": {
     "model_module": "@jupyter-widgets/controls",
     "model_name": "FloatProgressModel",
     "state": {
      "_dom_classes": [],
      "_model_module": "@jupyter-widgets/controls",
      "_model_module_version": "1.5.0",
      "_model_name": "FloatProgressModel",
      "_view_count": null,
      "_view_module": "@jupyter-widgets/controls",
      "_view_module_version": "1.5.0",
      "_view_name": "ProgressView",
      "bar_style": "",
      "description": "Batches:   8%",
      "description_tooltip": null,
      "layout": "IPY_MODEL_f2ab639942064be2a54aae50750c7220",
      "max": 60,
      "min": 0,
      "orientation": "horizontal",
      "style": "IPY_MODEL_0d23def4223948c6ad8afd49b06f1e69",
      "value": 5
     }
    },
    "f1b3ebf42fb0433aa1beeafb94cb8c80": {
     "model_module": "@jupyter-widgets/base",
     "model_name": "LayoutModel",
     "state": {
      "_model_module": "@jupyter-widgets/base",
      "_model_module_version": "1.2.0",
      "_model_name": "LayoutModel",
      "_view_count": null,
      "_view_module": "@jupyter-widgets/base",
      "_view_module_version": "1.2.0",
      "_view_name": "LayoutView",
      "align_content": null,
      "align_items": null,
      "align_self": null,
      "border": null,
      "bottom": null,
      "display": null,
      "flex": null,
      "flex_flow": null,
      "grid_area": null,
      "grid_auto_columns": null,
      "grid_auto_flow": null,
      "grid_auto_rows": null,
      "grid_column": null,
      "grid_gap": null,
      "grid_row": null,
      "grid_template_areas": null,
      "grid_template_columns": null,
      "grid_template_rows": null,
      "height": null,
      "justify_content": null,
      "justify_items": null,
      "left": null,
      "margin": null,
      "max_height": null,
      "max_width": null,
      "min_height": null,
      "min_width": null,
      "object_fit": null,
      "object_position": null,
      "order": null,
      "overflow": null,
      "overflow_x": null,
      "overflow_y": null,
      "padding": null,
      "right": null,
      "top": null,
      "visibility": null,
      "width": null
     }
    },
    "f2ab639942064be2a54aae50750c7220": {
     "model_module": "@jupyter-widgets/base",
     "model_name": "LayoutModel",
     "state": {
      "_model_module": "@jupyter-widgets/base",
      "_model_module_version": "1.2.0",
      "_model_name": "LayoutModel",
      "_view_count": null,
      "_view_module": "@jupyter-widgets/base",
      "_view_module_version": "1.2.0",
      "_view_name": "LayoutView",
      "align_content": null,
      "align_items": null,
      "align_self": null,
      "border": null,
      "bottom": null,
      "display": null,
      "flex": null,
      "flex_flow": null,
      "grid_area": null,
      "grid_auto_columns": null,
      "grid_auto_flow": null,
      "grid_auto_rows": null,
      "grid_column": null,
      "grid_gap": null,
      "grid_row": null,
      "grid_template_areas": null,
      "grid_template_columns": null,
      "grid_template_rows": null,
      "height": null,
      "justify_content": null,
      "justify_items": null,
      "left": null,
      "margin": null,
      "max_height": null,
      "max_width": null,
      "min_height": null,
      "min_width": null,
      "object_fit": null,
      "object_position": null,
      "order": null,
      "overflow": null,
      "overflow_x": null,
      "overflow_y": null,
      "padding": null,
      "right": null,
      "top": null,
      "visibility": null,
      "width": null
     }
    },
    "fe92717b5ffd4189b7246df035ed4e39": {
     "model_module": "@jupyter-widgets/controls",
     "model_name": "HBoxModel",
     "state": {
      "_dom_classes": [],
      "_model_module": "@jupyter-widgets/controls",
      "_model_module_version": "1.5.0",
      "_model_name": "HBoxModel",
      "_view_count": null,
      "_view_module": "@jupyter-widgets/controls",
      "_view_module_version": "1.5.0",
      "_view_name": "HBoxView",
      "box_style": "",
      "children": [
       "IPY_MODEL_d6ed8e611e5041768981426163dc8f70",
       "IPY_MODEL_684be7aeefb649e7a5700da9d69c0d5f"
      ],
      "layout": "IPY_MODEL_f1b3ebf42fb0433aa1beeafb94cb8c80"
     }
    }
   }
  }
 },
 "nbformat": 4,
 "nbformat_minor": 4
}
